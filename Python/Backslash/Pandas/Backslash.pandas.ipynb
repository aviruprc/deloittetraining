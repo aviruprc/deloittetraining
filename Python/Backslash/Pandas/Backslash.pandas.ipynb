{
 "cells": [
  {
   "cell_type": "code",
   "execution_count": 2,
   "metadata": {},
   "outputs": [],
   "source": [
    "import pandas as pd\n",
    "\n",
    "def color_negative_red(val):\n",
    "    \"\"\"\n",
    "    Takes a scalar and returns a string with\n",
    "    the css property `'color: red'` for negative\n",
    "    strings, black otherwise.\n",
    "    \"\"\"\n",
    "    color = 'red' if (val != 0  and type(val) !=str) else 'black'\n",
    "    return 'color: %s' % color\n",
    "\n",
    "#importing excel to DataFrame\n",
    "df1=pd.read_excel('excel_file_old.xlsx') #Df1 will represent the old file\n",
    "df2=pd.read_excel('excel_file_new.xlsx') #Df2 will represent the new file\n",
    "\n",
    "comparison_values = df1.values == df2.values #comparison values will check boolean values\n",
    "\n",
    "df3=df1.copy()\n",
    "\n",
    "import numpy as np #importing numpy to compare on a micro level for rows and columns\n",
    "\n",
    "#for comparing rows and columns where values are not same i.e False\n",
    "rows,cols=np.where(comparison_values==False) \n",
    "for item in zip(rows,cols):\n",
    "    df3.iloc[item[0],item[1]]=df1.iloc[item[0],item[1]]-df2.iloc[item[0],item[1]]\n",
    "    \n",
    "#for comparing rows and columns where values are same i.e True\n",
    "rows,cols=np.where(comparison_values==True)\n",
    "for item in zip(rows,cols):\n",
    "    if (type(df1.iloc[item[0],item[1]])!= str):\n",
    "        df3.iloc[item[0],item[1]]=df1.iloc[item[0],item[1]]-df2.iloc[item[0],item[1]]\n",
    "        \n",
    "\n",
    "#formatting the final output, changing font to red for updated values\n",
    "s = df3.style.applymap(color_negative_red)\n",
    "\n",
    "#file export to new file\n",
    "s.to_excel('./Excel_diff.xlsx',index=False,header=True)"
   ]
  },
  {
   "cell_type": "code",
   "execution_count": null,
   "metadata": {},
   "outputs": [],
   "source": []
  }
 ],
 "metadata": {
  "kernelspec": {
   "display_name": "Python 3",
   "language": "python",
   "name": "python3"
  },
  "language_info": {
   "codemirror_mode": {
    "name": "ipython",
    "version": 3
   },
   "file_extension": ".py",
   "mimetype": "text/x-python",
   "name": "python",
   "nbconvert_exporter": "python",
   "pygments_lexer": "ipython3",
   "version": "3.7.4"
  }
 },
 "nbformat": 4,
 "nbformat_minor": 2
}
