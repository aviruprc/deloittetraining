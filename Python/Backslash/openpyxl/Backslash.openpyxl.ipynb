{
 "cells": [
  {
   "cell_type": "code",
   "execution_count": null,
   "metadata": {},
   "outputs": [],
   "source": [
    "#importing load_workbook and Workbook from openpyxl\n",
    "from openpyxl import load_workbook\n",
    "from openpyxl import Workbook\n",
    "\n",
    "#importing the formatting libraries\n",
    "from openpyxl.styles import Fill,Font,Color,colors\n",
    "\n",
    "#generating the new excel file\n",
    "wb3 = Workbook()\n",
    "wb3.save(filename = 'excel_file_diff.xlsx')\n",
    "\n",
    "#set file path for the three excel files\n",
    "filepath1=\"excel_file_old.xlsx\"\n",
    "filepath2=\"excel_file_new.xlsx\"\n",
    "filepath3=\"excel_file_diff.xlsx\"\n",
    "\n",
    "#loading all the excel files\n",
    "wb1=load_workbook(filepath1)\n",
    "wb2=load_workbook(filepath2)\n",
    "\n",
    "#selecting the three excel sheets\n",
    "sheet1=wb1.active\n",
    "sheet2=wb2.active\n",
    "sheet3=wb3.active\n",
    "\n",
    "#evaluating the maximum rows and columns\n",
    "max_row1=sheet1.max_row\n",
    "max_column1=sheet1.max_column\n",
    "\n",
    "#printing the header of the excel file\n",
    "for i in range(1,2):\n",
    "     for j in range(1,max_column1+1):\n",
    "        cell_obj1=sheet1.cell(row=i,column=j)\n",
    "        sheet3.cell(row=i, column=j).value = cell_obj1.value\n",
    "wb3.save(filepath3)\n",
    "\n",
    "\"\"\"comparing cell by cell from the two excel sheets \n",
    "and printing the strings as it is and the differences of the values in the 3rd sheet\"\"\"\n",
    "for i in range(2,max_row1+1):\n",
    "     for j in range(1,max_column1+1):\n",
    "        cell_obj1=sheet1.cell(row=i,column=j) \n",
    "        cell_obj2=sheet2.cell(row=i,column=j)\n",
    "        if type(cell_obj1.value) == str and type(cell_obj2.value) == str  :\n",
    "            sheet3.cell(row=i, column=j).value = cell_obj1.value\n",
    "        else:\n",
    "            temp=cell_obj1.value-cell_obj2.value\n",
    "            sheet3.cell(row=i, column=j).value = temp\n",
    "            if temp!=0:\n",
    "                sheet3.cell(row=i, column=j).font = Font(color=colors.RED)\n",
    "wb3.save(filepath3)"
   ]
  }
 ],
 "metadata": {
  "kernelspec": {
   "display_name": "Python 3",
   "language": "python",
   "name": "python3"
  },
  "language_info": {
   "codemirror_mode": {
    "name": "ipython",
    "version": 3
   },
   "file_extension": ".py",
   "mimetype": "text/x-python",
   "name": "python",
   "nbconvert_exporter": "python",
   "pygments_lexer": "ipython3",
   "version": "3.7.4"
  }
 },
 "nbformat": 4,
 "nbformat_minor": 2
}
