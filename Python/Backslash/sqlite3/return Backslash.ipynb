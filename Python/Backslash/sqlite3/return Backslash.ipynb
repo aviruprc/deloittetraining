{
 "cells": [
  {
   "cell_type": "code",
   "execution_count": null,
   "metadata": {},
   "outputs": [],
   "source": [
    "import sqlite3"
   ]
  },
  {
   "cell_type": "code",
   "execution_count": null,
   "metadata": {},
   "outputs": [],
   "source": [
    "import pandas as pd"
   ]
  },
  {
   "cell_type": "code",
   "execution_count": null,
   "metadata": {},
   "outputs": [],
   "source": [
    "con = sqlite3.connect('chinook.db')"
   ]
  },
  {
   "cell_type": "code",
   "execution_count": null,
   "metadata": {},
   "outputs": [],
   "source": [
    "cur = con.cursor()"
   ]
  },
  {
   "cell_type": "code",
   "execution_count": null,
   "metadata": {},
   "outputs": [],
   "source": [
    "from sqlite3 import dbapi2 as sqlite\n",
    "a=['albums','artists','playlists','playlist_track','tracks']\n",
    "d={}"
   ]
  },
  {
   "cell_type": "code",
   "execution_count": null,
   "metadata": {},
   "outputs": [],
   "source": [
    "#query = \"\" + \"{}\".format(val)\n",
    "for val in a:\n",
    "    print(val)\n",
    "    cur.execute(\"select * from {}\".format(val))\n",
    "    col_list=cur.description\n",
    "    l1=[]\n",
    "    for i in range(len(col_list)):\n",
    "        l1.append(col_list[i][0])\n",
    "    print(l1)\n",
    "    for col in l1:\n",
    "        if col in d:\n",
    "            d[col].append(val)\n",
    "        else:\n",
    "            d[col]=[val]"
   ]
  },
  {
   "cell_type": "code",
   "execution_count": null,
   "metadata": {},
   "outputs": [],
   "source": [
    "d"
   ]
  },
  {
   "cell_type": "code",
   "execution_count": null,
   "metadata": {},
   "outputs": [],
   "source": [
    "l1=d['TrackId']\n",
    "l2=d['PlaylistId']\n",
    "print(l1)\n",
    "print(l2)\n",
    "l3=list(set(l1)&set(l2))\n",
    "print(l3)"
   ]
  },
  {
   "cell_type": "code",
   "execution_count": null,
   "metadata": {},
   "outputs": [],
   "source": [
    "playlist=[1,3,5,12]\n",
    "dict_of_tracks={}\n",
    "for i in range(len(playlist)):\n",
    "    cur.execute(\"select * from {} where PlaylistId={}\".format(l3[0],playlist[i]))\n",
    "    list_c=cur.fetchall()\n",
    "    print(list_c)\n",
    "    for j in range(10):\n",
    "        if list_c[j][0] in dict_of_tracks:\n",
    "            dict_of_tracks[list_c[j][0]].append(list_c[j][1])\n",
    "        else:\n",
    "            dict_of_tracks[list_c[j][0]]=[list_c[j][1]]\n"
   ]
  },
  {
   "cell_type": "code",
   "execution_count": null,
   "metadata": {},
   "outputs": [],
   "source": [
    "dict_of_tracks"
   ]
  },
  {
   "cell_type": "code",
   "execution_count": null,
   "metadata": {
    "scrolled": true
   },
   "outputs": [],
   "source": [
    "tableb=list(set(l1)&set(d['AlbumId']))\n",
    "print(tableb)"
   ]
  },
  {
   "cell_type": "code",
   "execution_count": null,
   "metadata": {},
   "outputs": [],
   "source": [
    "f=open('f_out_final.txt','a')\n",
    "f.write(\"trackId \\t\")\n",
    "f.write(\"albumid \\t\")\n",
    "f.write(\"name \\t\")\n",
    "f.write(\"\\n\")\n",
    "\n",
    "for i in range(len(dict_of_tracks)):\n",
    "    for j in range(len(dict_of_tracks[playlist[i]])):\n",
    "        cur.execute(\"select TrackId,AlbumId,Name from {} where TrackId={}\".format(tableb[0],dict_of_tracks[playlist[i]][j]))\n",
    "        listd=cur.fetchall()\n",
    "        print(listd)\n",
    "        f.write(str(listd[0][0]) +'\\t')\n",
    "        f.write(str(listd[0][1]) +'\\t')\n",
    "        f.write(listd[0][2])\n",
    "        f.write(\"\\n\")\n",
    "f.close()"
   ]
  },
  {
   "cell_type": "code",
   "execution_count": null,
   "metadata": {},
   "outputs": [],
   "source": []
  }
 ],
 "metadata": {
  "kernelspec": {
   "display_name": "Python 3",
   "language": "python",
   "name": "python3"
  },
  "language_info": {
   "codemirror_mode": {
    "name": "ipython",
    "version": 3
   },
   "file_extension": ".py",
   "mimetype": "text/x-python",
   "name": "python",
   "nbconvert_exporter": "python",
   "pygments_lexer": "ipython3",
   "version": "3.7.4"
  }
 },
 "nbformat": 4,
 "nbformat_minor": 2
}
