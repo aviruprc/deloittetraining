{
 "cells": [
  {
   "cell_type": "code",
   "execution_count": null,
   "metadata": {},
   "outputs": [],
   "source": [
    "import pandas as pd\n",
    "dfa = pd.read_csv('results.csv')\n",
    "dfa"
   ]
  },
  {
   "cell_type": "code",
   "execution_count": 17,
   "metadata": {},
   "outputs": [
    {
     "data": {
      "text/html": [
       "<div>\n",
       "<style scoped>\n",
       "    .dataframe tbody tr th:only-of-type {\n",
       "        vertical-align: middle;\n",
       "    }\n",
       "\n",
       "    .dataframe tbody tr th {\n",
       "        vertical-align: top;\n",
       "    }\n",
       "\n",
       "    .dataframe thead th {\n",
       "        text-align: right;\n",
       "    }\n",
       "</style>\n",
       "<table border=\"1\" class=\"dataframe\">\n",
       "  <thead>\n",
       "    <tr style=\"text-align: right;\">\n",
       "      <th></th>\n",
       "      <th>date</th>\n",
       "      <th>home_team</th>\n",
       "      <th>away_team</th>\n",
       "      <th>home_score</th>\n",
       "      <th>away_score</th>\n",
       "      <th>tournament</th>\n",
       "      <th>city</th>\n",
       "      <th>country</th>\n",
       "      <th>neutral</th>\n",
       "    </tr>\n",
       "  </thead>\n",
       "  <tbody>\n",
       "    <tr>\n",
       "      <td>29606</td>\n",
       "      <td>2007-10-08</td>\n",
       "      <td>Vietnam</td>\n",
       "      <td>United Arab Emirates</td>\n",
       "      <td>0</td>\n",
       "      <td>1</td>\n",
       "      <td>FIFA World Cup qualification</td>\n",
       "      <td>Hanoi</td>\n",
       "      <td>Vietnam</td>\n",
       "      <td>False</td>\n",
       "    </tr>\n",
       "    <tr>\n",
       "      <td>37419</td>\n",
       "      <td>2015-10-13</td>\n",
       "      <td>Vietnam</td>\n",
       "      <td>Thailand</td>\n",
       "      <td>0</td>\n",
       "      <td>3</td>\n",
       "      <td>FIFA World Cup qualification</td>\n",
       "      <td>Hanoi</td>\n",
       "      <td>Vietnam</td>\n",
       "      <td>False</td>\n",
       "    </tr>\n",
       "    <tr>\n",
       "      <td>41536</td>\n",
       "      <td>2019-11-19</td>\n",
       "      <td>Vietnam</td>\n",
       "      <td>Thailand</td>\n",
       "      <td>0</td>\n",
       "      <td>0</td>\n",
       "      <td>FIFA World Cup qualification</td>\n",
       "      <td>Hanoi</td>\n",
       "      <td>Vietnam</td>\n",
       "      <td>False</td>\n",
       "    </tr>\n",
       "  </tbody>\n",
       "</table>\n",
       "</div>"
      ],
      "text/plain": [
       "             date home_team             away_team  home_score  away_score  \\\n",
       "29606  2007-10-08   Vietnam  United Arab Emirates           0           1   \n",
       "37419  2015-10-13   Vietnam              Thailand           0           3   \n",
       "41536  2019-11-19   Vietnam              Thailand           0           0   \n",
       "\n",
       "                         tournament   city  country  neutral  \n",
       "29606  FIFA World Cup qualification  Hanoi  Vietnam    False  \n",
       "37419  FIFA World Cup qualification  Hanoi  Vietnam    False  \n",
       "41536  FIFA World Cup qualification  Hanoi  Vietnam    False  "
      ]
     },
     "execution_count": 17,
     "metadata": {},
     "output_type": "execute_result"
    }
   ],
   "source": [
    "#number of fifa qualification matches played in Hanao where Home Team lost\n",
    "dfa[(dfa.tournament == 'FIFA World Cup qualification') & (dfa.city == 'Hanoi') & (dfa.home_score==0)]\n"
   ]
  },
  {
   "cell_type": "code",
   "execution_count": 28,
   "metadata": {},
   "outputs": [
    {
     "data": {
      "text/html": [
       "<div>\n",
       "<style scoped>\n",
       "    .dataframe tbody tr th:only-of-type {\n",
       "        vertical-align: middle;\n",
       "    }\n",
       "\n",
       "    .dataframe tbody tr th {\n",
       "        vertical-align: top;\n",
       "    }\n",
       "\n",
       "    .dataframe thead th {\n",
       "        text-align: right;\n",
       "    }\n",
       "</style>\n",
       "<table border=\"1\" class=\"dataframe\">\n",
       "  <thead>\n",
       "    <tr style=\"text-align: right;\">\n",
       "      <th></th>\n",
       "      <th>date</th>\n",
       "      <th>home_team</th>\n",
       "      <th>away_team</th>\n",
       "      <th>home_score</th>\n",
       "      <th>away_score</th>\n",
       "      <th>tournament</th>\n",
       "      <th>city</th>\n",
       "      <th>country</th>\n",
       "      <th>neutral</th>\n",
       "    </tr>\n",
       "  </thead>\n",
       "  <tbody>\n",
       "    <tr>\n",
       "      <td>17</td>\n",
       "      <td>1881-03-12</td>\n",
       "      <td>England</td>\n",
       "      <td>Scotland</td>\n",
       "      <td>1</td>\n",
       "      <td>6</td>\n",
       "      <td>Friendly</td>\n",
       "      <td>London</td>\n",
       "      <td>England</td>\n",
       "      <td>False</td>\n",
       "    </tr>\n",
       "    <tr>\n",
       "      <td>38149</td>\n",
       "      <td>2016-08-25</td>\n",
       "      <td>Barawa</td>\n",
       "      <td>Tamil Eelam</td>\n",
       "      <td>0</td>\n",
       "      <td>5</td>\n",
       "      <td>World Unity Cup</td>\n",
       "      <td>London</td>\n",
       "      <td>England</td>\n",
       "      <td>False</td>\n",
       "    </tr>\n",
       "    <tr>\n",
       "      <td>39690</td>\n",
       "      <td>2018-04-15</td>\n",
       "      <td>Barawa</td>\n",
       "      <td>Yorkshire</td>\n",
       "      <td>2</td>\n",
       "      <td>7</td>\n",
       "      <td>Friendly</td>\n",
       "      <td>London</td>\n",
       "      <td>England</td>\n",
       "      <td>False</td>\n",
       "    </tr>\n",
       "  </tbody>\n",
       "</table>\n",
       "</div>"
      ],
      "text/plain": [
       "             date home_team    away_team  home_score  away_score  \\\n",
       "17     1881-03-12   England     Scotland           1           6   \n",
       "38149  2016-08-25    Barawa  Tamil Eelam           0           5   \n",
       "39690  2018-04-15    Barawa    Yorkshire           2           7   \n",
       "\n",
       "            tournament    city  country  neutral  \n",
       "17            Friendly  London  England    False  \n",
       "38149  World Unity Cup  London  England    False  \n",
       "39690         Friendly  London  England    False  "
      ]
     },
     "execution_count": 28,
     "metadata": {},
     "output_type": "execute_result"
    }
   ],
   "source": [
    "#number of matches played in England where home team lost by more than 4 goals\n",
    "dfa[(dfa.city == 'London') & (dfa.away_score - dfa.home_score >4)]"
   ]
  },
  {
   "cell_type": "code",
   "execution_count": 30,
   "metadata": {},
   "outputs": [
    {
     "data": {
      "text/html": [
       "<div>\n",
       "<style scoped>\n",
       "    .dataframe tbody tr th:only-of-type {\n",
       "        vertical-align: middle;\n",
       "    }\n",
       "\n",
       "    .dataframe tbody tr th {\n",
       "        vertical-align: top;\n",
       "    }\n",
       "\n",
       "    .dataframe thead th {\n",
       "        text-align: right;\n",
       "    }\n",
       "</style>\n",
       "<table border=\"1\" class=\"dataframe\">\n",
       "  <thead>\n",
       "    <tr style=\"text-align: right;\">\n",
       "      <th></th>\n",
       "      <th>home_score</th>\n",
       "    </tr>\n",
       "  </thead>\n",
       "  <tbody>\n",
       "    <tr>\n",
       "      <td>min</td>\n",
       "      <td>0.000000</td>\n",
       "    </tr>\n",
       "    <tr>\n",
       "      <td>max</td>\n",
       "      <td>31.000000</td>\n",
       "    </tr>\n",
       "    <tr>\n",
       "      <td>mean</td>\n",
       "      <td>1.745643</td>\n",
       "    </tr>\n",
       "    <tr>\n",
       "      <td>median</td>\n",
       "      <td>1.000000</td>\n",
       "    </tr>\n",
       "  </tbody>\n",
       "</table>\n",
       "</div>"
      ],
      "text/plain": [
       "        home_score\n",
       "min       0.000000\n",
       "max      31.000000\n",
       "mean      1.745643\n",
       "median    1.000000"
      ]
     },
     "execution_count": 30,
     "metadata": {},
     "output_type": "execute_result"
    }
   ],
   "source": [
    "#statistics of home score in all the matches\n",
    "dfa.agg({'home_score': ['min', 'max', 'mean', 'median']})"
   ]
  },
  {
   "cell_type": "code",
   "execution_count": 33,
   "metadata": {},
   "outputs": [
    {
     "data": {
      "text/plain": [
       "home_score\n",
       "1     109\n",
       "2      88\n",
       "0      71\n",
       "3      57\n",
       "4      22\n",
       "5      18\n",
       "6      10\n",
       "9       2\n",
       "8       2\n",
       "7       2\n",
       "11      1\n",
       "dtype: int64"
      ]
     },
     "execution_count": 33,
     "metadata": {},
     "output_type": "execute_result"
    }
   ],
   "source": [
    "#matches played in scotland grouped by home_team and filtered on basis of home_score sorted in ascending order\n",
    "dfa[dfa.country == 'Scotland'].groupby('home_team').filter(lambda g: len(g) > 2).groupby('home_score').size().sort_values(ascending=False)"
   ]
  },
  {
   "cell_type": "code",
   "execution_count": null,
   "metadata": {},
   "outputs": [],
   "source": [
    "#Fetch the host country and year of FIFA WorldCup into a dictionary\n",
    "import pandas as pd\n",
    "dfa = pd.read_csv('results.csv')\n",
    "dfa['year'] = pd.DatetimeIndex(dfa['date']).year\n",
    "fifa = dfa[dfa['tournament']=='FIFA World Cup']\n",
    "dates = fifa.date.tolist()\n",
    "years=[]\n",
    "for date in dates:\n",
    "    year=date.split('-')[0]\n",
    "    if year not in years:\n",
    "        years.append(year)\n",
    "dictOfCountries={}\n",
    "for i in range(len(years)):\n",
    "    for j in range(len(fifa[fifa['year']==eval(years[i])].country.unique())):\n",
    "        if years[i] in dictOfCountries.keys():\n",
    "            dictOfCountries[years[i]].append(fifa[fifa['year']==eval(years[i])].country.unique()[j])\n",
    "        else:\n",
    "            dictOfCountries[years[i]]=[fifa[fifa['year']==eval(years[i])].country.unique()[j]]\n",
    "\n",
    "dictOfCountries"
   ]
  }
 ],
 "metadata": {
  "kernelspec": {
   "display_name": "Python 3",
   "language": "python",
   "name": "python3"
  },
  "language_info": {
   "codemirror_mode": {
    "name": "ipython",
    "version": 3
   },
   "file_extension": ".py",
   "mimetype": "text/x-python",
   "name": "python",
   "nbconvert_exporter": "python",
   "pygments_lexer": "ipython3",
   "version": "3.7.4"
  }
 },
 "nbformat": 4,
 "nbformat_minor": 2
}
