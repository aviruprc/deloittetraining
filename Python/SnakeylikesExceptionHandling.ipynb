{
 "cells": [
  {
   "cell_type": "code",
   "execution_count": 1,
   "metadata": {},
   "outputs": [],
   "source": [
    "vara = 10\n",
    "vara = 20\n",
    "varc = 0"
   ]
  },
  {
   "cell_type": "code",
   "execution_count": 2,
   "metadata": {},
   "outputs": [
    {
     "ename": "ZeroDivisionError",
     "evalue": "division by zero",
     "output_type": "error",
     "traceback": [
      "\u001b[1;31m---------------------------------------------------------------------------\u001b[0m",
      "\u001b[1;31mZeroDivisionError\u001b[0m                         Traceback (most recent call last)",
      "\u001b[1;32m<ipython-input-2-714f97a75efc>\u001b[0m in \u001b[0;36m<module>\u001b[1;34m\u001b[0m\n\u001b[1;32m----> 1\u001b[1;33m \u001b[0mvarb\u001b[0m \u001b[1;33m=\u001b[0m \u001b[0mvara\u001b[0m\u001b[1;33m/\u001b[0m\u001b[0mvarc\u001b[0m\u001b[1;33m\u001b[0m\u001b[1;33m\u001b[0m\u001b[0m\n\u001b[0m",
      "\u001b[1;31mZeroDivisionError\u001b[0m: division by zero"
     ]
    }
   ],
   "source": [
    "varb = vara/varc"
   ]
  },
  {
   "cell_type": "code",
   "execution_count": 3,
   "metadata": {},
   "outputs": [
    {
     "data": {
      "text/plain": [
       "20"
      ]
     },
     "execution_count": 3,
     "metadata": {},
     "output_type": "execute_result"
    }
   ],
   "source": [
    "vara"
   ]
  },
  {
   "cell_type": "code",
   "execution_count": 4,
   "metadata": {},
   "outputs": [
    {
     "ename": "NameError",
     "evalue": "name 'local' is not defined",
     "output_type": "error",
     "traceback": [
      "\u001b[1;31m---------------------------------------------------------------------------\u001b[0m",
      "\u001b[1;31mNameError\u001b[0m                                 Traceback (most recent call last)",
      "\u001b[1;32m<ipython-input-4-4bc0f184d1a3>\u001b[0m in \u001b[0;36m<module>\u001b[1;34m\u001b[0m\n\u001b[1;32m----> 1\u001b[1;33m \u001b[0mlocal\u001b[0m\u001b[1;33m.\u001b[0m\u001b[0mvara\u001b[0m\u001b[1;33m\u001b[0m\u001b[1;33m\u001b[0m\u001b[0m\n\u001b[0m",
      "\u001b[1;31mNameError\u001b[0m: name 'local' is not defined"
     ]
    }
   ],
   "source": [
    "local.vara"
   ]
  },
  {
   "cell_type": "code",
   "execution_count": 5,
   "metadata": {},
   "outputs": [],
   "source": [
    "lista = []\n",
    "avg = 0"
   ]
  },
  {
   "cell_type": "code",
   "execution_count": 6,
   "metadata": {},
   "outputs": [
    {
     "name": "stdout",
     "output_type": "stream",
     "text": [
      "divide by zero not possible\n"
     ]
    }
   ],
   "source": [
    "try:\n",
    "    varb = vara/varc\n",
    "    print(vara)\n",
    "except ZeroDivisionError:\n",
    "    print(\"divide by zero not possible\")"
   ]
  },
  {
   "cell_type": "code",
   "execution_count": 7,
   "metadata": {},
   "outputs": [
    {
     "name": "stdout",
     "output_type": "stream",
     "text": [
      "list is empty\n"
     ]
    }
   ],
   "source": [
    "try:\n",
    "    avg = sum(lista)/len(lista)\n",
    "    print(\"avg is \", avg)\n",
    "except ZeroDivisionError:\n",
    "    print(\"list is empty\")"
   ]
  },
  {
   "cell_type": "code",
   "execution_count": 8,
   "metadata": {},
   "outputs": [],
   "source": [
    "lista.append(20)"
   ]
  },
  {
   "cell_type": "code",
   "execution_count": 9,
   "metadata": {},
   "outputs": [
    {
     "name": "stdout",
     "output_type": "stream",
     "text": [
      "avg is  20.0\n"
     ]
    }
   ],
   "source": [
    "\n",
    "try:\n",
    "    avg = sum(lista)/len(lista)\n",
    "    print(\"avg is \", avg)\n",
    "except ZeroDivisionError:\n",
    "    print(\"list is empty\")"
   ]
  },
  {
   "cell_type": "code",
   "execution_count": 10,
   "metadata": {},
   "outputs": [
    {
     "ename": "NameError",
     "evalue": "name 'listb' is not defined",
     "output_type": "error",
     "traceback": [
      "\u001b[1;31m---------------------------------------------------------------------------\u001b[0m",
      "\u001b[1;31mNameError\u001b[0m                                 Traceback (most recent call last)",
      "\u001b[1;32m<ipython-input-10-64541090c37a>\u001b[0m in \u001b[0;36m<module>\u001b[1;34m\u001b[0m\n\u001b[0;32m      2\u001b[0m \u001b[1;33m\u001b[0m\u001b[0m\n\u001b[0;32m      3\u001b[0m \u001b[1;32mtry\u001b[0m\u001b[1;33m:\u001b[0m\u001b[1;33m\u001b[0m\u001b[1;33m\u001b[0m\u001b[0m\n\u001b[1;32m----> 4\u001b[1;33m     \u001b[0mavg\u001b[0m \u001b[1;33m=\u001b[0m \u001b[0msum\u001b[0m\u001b[1;33m(\u001b[0m\u001b[0mlistb\u001b[0m\u001b[1;33m)\u001b[0m\u001b[1;33m/\u001b[0m\u001b[0mlen\u001b[0m\u001b[1;33m(\u001b[0m\u001b[0mlista\u001b[0m\u001b[1;33m)\u001b[0m\u001b[1;33m\u001b[0m\u001b[1;33m\u001b[0m\u001b[0m\n\u001b[0m\u001b[0;32m      5\u001b[0m     \u001b[0mprint\u001b[0m\u001b[1;33m(\u001b[0m\u001b[1;34m\"avg is \"\u001b[0m\u001b[1;33m,\u001b[0m \u001b[0mavg\u001b[0m\u001b[1;33m)\u001b[0m\u001b[1;33m\u001b[0m\u001b[1;33m\u001b[0m\u001b[0m\n\u001b[0;32m      6\u001b[0m \u001b[1;32mexcept\u001b[0m \u001b[0mZeroDivisionError\u001b[0m\u001b[1;33m:\u001b[0m\u001b[1;33m\u001b[0m\u001b[1;33m\u001b[0m\u001b[0m\n",
      "\u001b[1;31mNameError\u001b[0m: name 'listb' is not defined"
     ]
    }
   ],
   "source": [
    "lista.clear()\n",
    "\n",
    "try:\n",
    "    avg = sum(listb)/len(lista)\n",
    "    print(\"avg is \", avg)\n",
    "except ZeroDivisionError:\n",
    "    print(\"list is empty\")"
   ]
  },
  {
   "cell_type": "code",
   "execution_count": 13,
   "metadata": {},
   "outputs": [
    {
     "name": "stdout",
     "output_type": "stream",
     "text": [
      "list is empty\n"
     ]
    }
   ],
   "source": [
    "try:\n",
    "    avg = sum(listb)/len(lista)\n",
    "    print(\"avg is \", avg)\n",
    "except ZeroDivisionError:\n",
    "    print(\"list is empty\")\n",
    "except NameError:\n",
    "    print(\"check your name please\")"
   ]
  },
  {
   "cell_type": "code",
   "execution_count": 19,
   "metadata": {},
   "outputs": [],
   "source": [
    "listb = []"
   ]
  },
  {
   "cell_type": "code",
   "execution_count": 18,
   "metadata": {},
   "outputs": [
    {
     "name": "stdout",
     "output_type": "stream",
     "text": [
      "check your name please\n",
      "hi\n"
     ]
    }
   ],
   "source": [
    "\n",
    "try:\n",
    "    avg = sum(listb)/len(lista)\n",
    "    print(\"avg is \", avg)\n",
    "except ZeroDivisionError:\n",
    "    print(\"list is empty\")\n",
    "except NameError:\n",
    "    print(\"check your name please\")\n",
    "print('hi')"
   ]
  },
  {
   "cell_type": "code",
   "execution_count": 17,
   "metadata": {},
   "outputs": [],
   "source": [
    "del listb"
   ]
  },
  {
   "cell_type": "code",
   "execution_count": 20,
   "metadata": {},
   "outputs": [],
   "source": [
    "listb = [6, 8, 10]\n",
    "lista = listb"
   ]
  },
  {
   "cell_type": "code",
   "execution_count": 21,
   "metadata": {},
   "outputs": [
    {
     "name": "stdout",
     "output_type": "stream",
     "text": [
      "avg is  8.0\n",
      "hi\n"
     ]
    }
   ],
   "source": [
    "try:\n",
    "    avg = sum(listb)/len(lista)\n",
    "    print(\"avg is \", avg)\n",
    "except ZeroDivisionError:\n",
    "    print(\"list is empty\")\n",
    "except NameError:\n",
    "    print(\"check your name please\")\n",
    "print('hi')"
   ]
  },
  {
   "cell_type": "code",
   "execution_count": 22,
   "metadata": {},
   "outputs": [
    {
     "name": "stdout",
     "output_type": "stream",
     "text": [
      "enter index: 1\n",
      "avg is  8.0\n",
      "val = 8\n",
      "hi\n"
     ]
    }
   ],
   "source": [
    "try:\n",
    "    i = eval(input(\"enter index: \"))\n",
    "    avg = sum(listb)/len(lista)\n",
    "    print(\"avg is \", avg)\n",
    "    val = lista[i]\n",
    "    print(\"val =\", val)\n",
    "except ZeroDivisionError:\n",
    "    print(\"list is empty\")\n",
    "except NameError:\n",
    "    print(\"check your name please\")\n",
    "print('hi')"
   ]
  },
  {
   "cell_type": "code",
   "execution_count": 23,
   "metadata": {},
   "outputs": [
    {
     "name": "stdout",
     "output_type": "stream",
     "text": [
      "enter index: 'Hello'\n",
      "avg is  8.0\n"
     ]
    },
    {
     "ename": "ValueError",
     "evalue": "invalid literal for int() with base 10: \"'Hello'\"",
     "output_type": "error",
     "traceback": [
      "\u001b[1;31m---------------------------------------------------------------------------\u001b[0m",
      "\u001b[1;31mTypeError\u001b[0m                                 Traceback (most recent call last)",
      "\u001b[1;32m<ipython-input-23-85cc10476588>\u001b[0m in \u001b[0;36m<module>\u001b[1;34m\u001b[0m\n\u001b[0;32m      4\u001b[0m     \u001b[0mprint\u001b[0m\u001b[1;33m(\u001b[0m\u001b[1;34m\"avg is \"\u001b[0m\u001b[1;33m,\u001b[0m \u001b[0mavg\u001b[0m\u001b[1;33m)\u001b[0m\u001b[1;33m\u001b[0m\u001b[1;33m\u001b[0m\u001b[0m\n\u001b[1;32m----> 5\u001b[1;33m     \u001b[0mval\u001b[0m \u001b[1;33m=\u001b[0m \u001b[0mlista\u001b[0m\u001b[1;33m[\u001b[0m\u001b[0mi\u001b[0m\u001b[1;33m]\u001b[0m\u001b[1;33m\u001b[0m\u001b[1;33m\u001b[0m\u001b[0m\n\u001b[0m\u001b[0;32m      6\u001b[0m     \u001b[0mprint\u001b[0m\u001b[1;33m(\u001b[0m\u001b[1;34m\"val =\"\u001b[0m\u001b[1;33m,\u001b[0m \u001b[0mval\u001b[0m\u001b[1;33m)\u001b[0m\u001b[1;33m\u001b[0m\u001b[1;33m\u001b[0m\u001b[0m\n",
      "\u001b[1;31mTypeError\u001b[0m: list indices must be integers or slices, not str",
      "\nDuring handling of the above exception, another exception occurred:\n",
      "\u001b[1;31mValueError\u001b[0m                                Traceback (most recent call last)",
      "\u001b[1;32m<ipython-input-23-85cc10476588>\u001b[0m in \u001b[0;36m<module>\u001b[1;34m\u001b[0m\n\u001b[0;32m     10\u001b[0m     \u001b[0mprint\u001b[0m\u001b[1;33m(\u001b[0m\u001b[1;34m\"check your name please\"\u001b[0m\u001b[1;33m)\u001b[0m\u001b[1;33m\u001b[0m\u001b[1;33m\u001b[0m\u001b[0m\n\u001b[0;32m     11\u001b[0m \u001b[1;32mexcept\u001b[0m \u001b[0mTypeError\u001b[0m\u001b[1;33m:\u001b[0m\u001b[1;33m\u001b[0m\u001b[1;33m\u001b[0m\u001b[0m\n\u001b[1;32m---> 12\u001b[1;33m     \u001b[0mprint\u001b[0m\u001b[1;33m(\u001b[0m\u001b[0mlista\u001b[0m\u001b[1;33m[\u001b[0m\u001b[0mint\u001b[0m\u001b[1;33m(\u001b[0m\u001b[0mi\u001b[0m\u001b[1;33m)\u001b[0m\u001b[1;33m]\u001b[0m\u001b[1;33m)\u001b[0m\u001b[1;33m\u001b[0m\u001b[1;33m\u001b[0m\u001b[0m\n\u001b[0m\u001b[0;32m     13\u001b[0m \u001b[0mprint\u001b[0m\u001b[1;33m(\u001b[0m\u001b[1;34m'hi'\u001b[0m\u001b[1;33m)\u001b[0m\u001b[1;33m\u001b[0m\u001b[1;33m\u001b[0m\u001b[0m\n",
      "\u001b[1;31mValueError\u001b[0m: invalid literal for int() with base 10: \"'Hello'\""
     ]
    }
   ],
   "source": [
    "try:\n",
    "    i = input(\"enter index: \")\n",
    "    avg = sum(listb)/len(lista)\n",
    "    print(\"avg is \", avg)\n",
    "    val = lista[i]\n",
    "    print(\"val =\", val)\n",
    "except ZeroDivisionError:\n",
    "    print(\"list is empty\")\n",
    "except NameError:\n",
    "    print(\"check your name please\")\n",
    "except TypeError:\n",
    "    print(lista[int(i)])\n",
    "print('hi')"
   ]
  },
  {
   "cell_type": "code",
   "execution_count": 24,
   "metadata": {},
   "outputs": [],
   "source": [
    "#will be solved using eval"
   ]
  },
  {
   "cell_type": "code",
   "execution_count": 28,
   "metadata": {},
   "outputs": [
    {
     "name": "stdout",
     "output_type": "stream",
     "text": [
      "enter index: 4\n",
      "avg is  8.0\n"
     ]
    },
    {
     "ename": "IndexError",
     "evalue": "list index out of range",
     "output_type": "error",
     "traceback": [
      "\u001b[1;31m---------------------------------------------------------------------------\u001b[0m",
      "\u001b[1;31mIndexError\u001b[0m                                Traceback (most recent call last)",
      "\u001b[1;32m<ipython-input-28-004af65ce041>\u001b[0m in \u001b[0;36m<module>\u001b[1;34m\u001b[0m\n\u001b[0;32m      3\u001b[0m     \u001b[0mavg\u001b[0m \u001b[1;33m=\u001b[0m \u001b[0msum\u001b[0m\u001b[1;33m(\u001b[0m\u001b[0mlistb\u001b[0m\u001b[1;33m)\u001b[0m\u001b[1;33m/\u001b[0m\u001b[0mlen\u001b[0m\u001b[1;33m(\u001b[0m\u001b[0mlista\u001b[0m\u001b[1;33m)\u001b[0m\u001b[1;33m\u001b[0m\u001b[1;33m\u001b[0m\u001b[0m\n\u001b[0;32m      4\u001b[0m     \u001b[0mprint\u001b[0m\u001b[1;33m(\u001b[0m\u001b[1;34m\"avg is \"\u001b[0m\u001b[1;33m,\u001b[0m \u001b[0mavg\u001b[0m\u001b[1;33m)\u001b[0m\u001b[1;33m\u001b[0m\u001b[1;33m\u001b[0m\u001b[0m\n\u001b[1;32m----> 5\u001b[1;33m     \u001b[0mval\u001b[0m \u001b[1;33m=\u001b[0m \u001b[0mlista\u001b[0m\u001b[1;33m[\u001b[0m\u001b[0mi\u001b[0m\u001b[1;33m]\u001b[0m\u001b[1;33m\u001b[0m\u001b[1;33m\u001b[0m\u001b[0m\n\u001b[0m\u001b[0;32m      6\u001b[0m     \u001b[0mprint\u001b[0m\u001b[1;33m(\u001b[0m\u001b[1;34m\"val =\"\u001b[0m\u001b[1;33m,\u001b[0m \u001b[0mval\u001b[0m\u001b[1;33m)\u001b[0m\u001b[1;33m\u001b[0m\u001b[1;33m\u001b[0m\u001b[0m\n\u001b[0;32m      7\u001b[0m \u001b[1;32mexcept\u001b[0m \u001b[0mZeroDivisionError\u001b[0m\u001b[1;33m:\u001b[0m\u001b[1;33m\u001b[0m\u001b[1;33m\u001b[0m\u001b[0m\n",
      "\u001b[1;31mIndexError\u001b[0m: list index out of range"
     ]
    }
   ],
   "source": [
    "try:\n",
    "    i = eval(input(\"enter index: \"))\n",
    "    avg = sum(listb)/len(lista)\n",
    "    print(\"avg is \", avg)\n",
    "    val = lista[i]\n",
    "    print(\"val =\", val)\n",
    "except ZeroDivisionError:\n",
    "    print(\"list is empty\")\n",
    "except NameError:\n",
    "    print(\"check your name please\")\n",
    "except TypeError:\n",
    "    print(lista[int(i)])\n",
    "print('hi')"
   ]
  },
  {
   "cell_type": "code",
   "execution_count": 29,
   "metadata": {},
   "outputs": [],
   "source": [
    "#will be solved using error handling"
   ]
  },
  {
   "cell_type": "code",
   "execution_count": 31,
   "metadata": {},
   "outputs": [
    {
     "name": "stdout",
     "output_type": "stream",
     "text": [
      "enter index: 4\n",
      "avg is  8.0\n",
      "out of index\n",
      "hi\n"
     ]
    }
   ],
   "source": [
    "\n",
    "try:\n",
    "    i = eval(input(\"enter index: \"))\n",
    "    avg = sum(listb)/len(lista)\n",
    "    print(\"avg is \", avg)\n",
    "    val = lista[i]\n",
    "    print(\"val =\", val)\n",
    "except ZeroDivisionError:\n",
    "    print(\"list is empty\")\n",
    "except NameError:\n",
    "    print(\"check your name please\")\n",
    "except TypeError:\n",
    "    print(lista[int(i)])\n",
    "except IndexError:\n",
    "    print(\"out of index\")\n",
    "print('hi')"
   ]
  },
  {
   "cell_type": "code",
   "execution_count": 32,
   "metadata": {},
   "outputs": [
    {
     "name": "stdout",
     "output_type": "stream",
     "text": [
      "enter index: 4\n",
      "avg is  8.0\n",
      "something went wrong, don't know what\n",
      "hi\n"
     ]
    }
   ],
   "source": [
    "try:\n",
    "    i = eval(input(\"enter index: \"))\n",
    "    avg = sum(listb)/len(lista)\n",
    "    print(\"avg is \", avg)\n",
    "    val = lista[i]\n",
    "    print(\"val =\", val)\n",
    "except ZeroDivisionError:\n",
    "    print(\"list is empty\")\n",
    "except NameError:\n",
    "    print(\"check your name please\")\n",
    "except:\n",
    "    print(\"something went wrong, don't know what\")\n",
    "print(\"hi\")"
   ]
  },
  {
   "cell_type": "code",
   "execution_count": 33,
   "metadata": {},
   "outputs": [],
   "source": [
    "# too many errors are not good"
   ]
  },
  {
   "cell_type": "code",
   "execution_count": 34,
   "metadata": {},
   "outputs": [
    {
     "ename": "SyntaxError",
     "evalue": "default 'except:' must be last (<ipython-input-34-d80dc0f88b03>, line 9)",
     "output_type": "error",
     "traceback": [
      "\u001b[1;36m  File \u001b[1;32m\"<ipython-input-34-d80dc0f88b03>\"\u001b[1;36m, line \u001b[1;32m9\u001b[0m\n\u001b[1;33m    except ZeroDivisionError:\u001b[0m\n\u001b[1;37m                             \n^\u001b[0m\n\u001b[1;31mSyntaxError\u001b[0m\u001b[1;31m:\u001b[0m default 'except:' must be last\n"
     ]
    }
   ],
   "source": [
    "try:\n",
    "    i = input(\"enter index: \")\n",
    "    avg = sum(listb)/len(lista)\n",
    "    print(\"avg is \", avg)\n",
    "    val = lista[i]\n",
    "    print(\"val =\", val)\n",
    "except:\n",
    "    print(\"something went wrong, don't know what\")\n",
    "except ZeroDivisionError:\n",
    "    print(\"list is empty\")\n",
    "except NameError:\n",
    "    print(\"check your name please\")\n",
    "print(\"hi\")\n",
    "#default except should always be last"
   ]
  },
  {
   "cell_type": "code",
   "execution_count": 35,
   "metadata": {},
   "outputs": [
    {
     "name": "stdout",
     "output_type": "stream",
     "text": [
      "enter index: 4\n",
      "avg is  8.0\n",
      "something went wrong, don't know what\n",
      "hi\n"
     ]
    }
   ],
   "source": [
    "try:\n",
    "    i = input(\"enter index: \")\n",
    "    avg = sum(listb)/len(lista)\n",
    "    print(\"avg is \", avg)\n",
    "    val = lista[i]\n",
    "    print(\"val =\", val)\n",
    "    print(\"hello\")\n",
    "except ZeroDivisionError:\n",
    "    print(\"list is empty\")\n",
    "except NameError:\n",
    "    print(\"check your name please\")\n",
    "except:\n",
    "    print(\"something went wrong, don't know what\")\n",
    "print(\"hi\")"
   ]
  },
  {
   "cell_type": "code",
   "execution_count": 37,
   "metadata": {},
   "outputs": [
    {
     "name": "stdout",
     "output_type": "stream",
     "text": [
      "enter age: 12\n",
      "underage\n"
     ]
    }
   ],
   "source": [
    "try:\n",
    "    age = eval(input(\"enter age: \"))\n",
    "    if age < 18:\n",
    "        raise ValueError(\"age is too less\")\n",
    "    else :\n",
    "        print(\"good to go\")\n",
    "except ValueError :\n",
    "    print(\"underage\")"
   ]
  },
  {
   "cell_type": "code",
   "execution_count": 38,
   "metadata": {},
   "outputs": [
    {
     "name": "stdout",
     "output_type": "stream",
     "text": [
      "enter age: 12\n"
     ]
    }
   ],
   "source": [
    "try:\n",
    "    age = eval(input(\"enter age: \"))\n",
    "    if age < 18:\n",
    "        raise ValueError(\"age is too less\")\n",
    "    else :\n",
    "        print(\"good to go\")\n",
    "except :\n",
    "    pass\n",
    "#raise your own error"
   ]
  },
  {
   "cell_type": "code",
   "execution_count": 41,
   "metadata": {},
   "outputs": [
    {
     "name": "stdout",
     "output_type": "stream",
     "text": [
      "enter age: 15\n",
      "inner value error\n"
     ]
    }
   ],
   "source": [
    "try:\n",
    "    try:\n",
    "        age = eval(input(\"enter age: \"))\n",
    "        if age < 18:\n",
    "            raise ValueError(\"age is too less\")\n",
    "        else :\n",
    "            print(\"your age =\", age)\n",
    "    except ValueError:\n",
    "        print(\"inner value error\")\n",
    "except NameError:\n",
    "    print(\"outer name error\")"
   ]
  },
  {
   "cell_type": "code",
   "execution_count": 42,
   "metadata": {},
   "outputs": [],
   "source": [
    "def funca(num):\n",
    "    try:\n",
    "        age = eval(input(\"enter age: \"))\n",
    "        if age < num:\n",
    "            raise ValueError(\"age is too less\")\n",
    "        else :\n",
    "            print(\"your age =\", age)\n",
    "    except ValueError:\n",
    "        print(\"inner value error\")\n",
    "    return"
   ]
  },
  {
   "cell_type": "code",
   "execution_count": 44,
   "metadata": {},
   "outputs": [
    {
     "name": "stdout",
     "output_type": "stream",
     "text": [
      "enter age: 100\n",
      "your age = 100\n"
     ]
    }
   ],
   "source": [
    "try:\n",
    "    funca(20)\n",
    "except:\n",
    "    print('something went wrong')"
   ]
  },
  {
   "cell_type": "code",
   "execution_count": 45,
   "metadata": {},
   "outputs": [],
   "source": [
    "def funca(num):\n",
    "    try:\n",
    "        age = eval(input(\"enter age: \"))\n",
    "        if age < num:\n",
    "            raise ValueError(\"age is too less\")\n",
    "        else :\n",
    "            print(\"your age =\", age)\n",
    "    except ValueError:\n",
    "        print(\"inner value error\")\n",
    "    return"
   ]
  },
  {
   "cell_type": "code",
   "execution_count": 46,
   "metadata": {},
   "outputs": [
    {
     "name": "stdout",
     "output_type": "stream",
     "text": [
      "enter age: 22\n",
      "your age = 22\n"
     ]
    }
   ],
   "source": [
    "\n",
    "try:\n",
    "    funca(20)\n",
    "except:\n",
    "    print('something went wrong')"
   ]
  },
  {
   "cell_type": "code",
   "execution_count": 48,
   "metadata": {},
   "outputs": [
    {
     "name": "stdout",
     "output_type": "stream",
     "text": [
      "enter index1\n",
      "8\n"
     ]
    }
   ],
   "source": [
    "try:\n",
    "    i = eval(input(\"enter index\"))\n",
    "    val = lista[i]\n",
    "except IndexError:\n",
    "    print(\"the index is wrong\")\n",
    "except :\n",
    "    print(\"something went wrong\")\n",
    "else :\n",
    "    print(val)"
   ]
  },
  {
   "cell_type": "code",
   "execution_count": 53,
   "metadata": {},
   "outputs": [
    {
     "name": "stdout",
     "output_type": "stream",
     "text": [
      "enter index: 12\n",
      "the index is wrong\n",
      "this will execute irrespective\n",
      "last line\n"
     ]
    }
   ],
   "source": [
    "try:\n",
    "    i = eval(input(\"enter index: \"))\n",
    "    val = lista[i]\n",
    "except IndexError:\n",
    "    print(\"the index is wrong\")\n",
    "else :\n",
    "    print(val)\n",
    "finally:\n",
    "    print(\"this will execute irrespective\")\n",
    "\n",
    "print(\"last line\")"
   ]
  },
  {
   "cell_type": "code",
   "execution_count": 50,
   "metadata": {},
   "outputs": [],
   "source": [
    "# if no error is raised,else will be executed, code will be excuted, finall will be executed, last line will be executed"
   ]
  },
  {
   "cell_type": "code",
   "execution_count": null,
   "metadata": {},
   "outputs": [],
   "source": [
    "#if error is raised, except will be executed, finally will execute, last line will execute"
   ]
  }
 ],
 "metadata": {
  "kernelspec": {
   "display_name": "Python 3",
   "language": "python",
   "name": "python3"
  },
  "language_info": {
   "codemirror_mode": {
    "name": "ipython",
    "version": 3
   },
   "file_extension": ".py",
   "mimetype": "text/x-python",
   "name": "python",
   "nbconvert_exporter": "python",
   "pygments_lexer": "ipython3",
   "version": "3.7.4"
  }
 },
 "nbformat": 4,
 "nbformat_minor": 2
}
