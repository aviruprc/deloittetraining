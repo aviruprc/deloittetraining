{
 "cells": [
  {
   "cell_type": "code",
   "execution_count": 1,
   "metadata": {},
   "outputs": [],
   "source": [
    "import sqlite3"
   ]
  },
  {
   "cell_type": "code",
   "execution_count": 2,
   "metadata": {},
   "outputs": [],
   "source": [
    "con = sqlite3.connect('chinook.db')"
   ]
  },
  {
   "cell_type": "code",
   "execution_count": 3,
   "metadata": {},
   "outputs": [],
   "source": [
    "cur = con.cursor()"
   ]
  },
  {
   "cell_type": "code",
   "execution_count": 4,
   "metadata": {},
   "outputs": [],
   "source": [
    "query = \"\"\"SELECT name from sqlite_master where type = \"table\" \"\"\""
   ]
  },
  {
   "cell_type": "code",
   "execution_count": 5,
   "metadata": {},
   "outputs": [
    {
     "data": {
      "text/plain": [
       "<sqlite3.Cursor at 0x2699e508dc0>"
      ]
     },
     "execution_count": 5,
     "metadata": {},
     "output_type": "execute_result"
    }
   ],
   "source": [
    "cur.execute(query)"
   ]
  },
  {
   "cell_type": "code",
   "execution_count": 6,
   "metadata": {},
   "outputs": [
    {
     "data": {
      "text/plain": [
       "[('albums',),\n",
       " ('sqlite_sequence',),\n",
       " ('artists',),\n",
       " ('customers',),\n",
       " ('employees',),\n",
       " ('genres',),\n",
       " ('invoices',),\n",
       " ('invoice_items',),\n",
       " ('media_types',),\n",
       " ('playlists',),\n",
       " ('playlist_track',),\n",
       " ('tracks',),\n",
       " ('sqlite_stat1',)]"
      ]
     },
     "execution_count": 6,
     "metadata": {},
     "output_type": "execute_result"
    }
   ],
   "source": [
    "cur.fetchall()"
   ]
  },
  {
   "cell_type": "code",
   "execution_count": 7,
   "metadata": {},
   "outputs": [],
   "source": [
    "query = \"SELECT * FROM employees\""
   ]
  },
  {
   "cell_type": "code",
   "execution_count": 11,
   "metadata": {},
   "outputs": [
    {
     "data": {
      "text/plain": [
       "<sqlite3.Cursor at 0x2699e508dc0>"
      ]
     },
     "execution_count": 11,
     "metadata": {},
     "output_type": "execute_result"
    }
   ],
   "source": [
    "cur.execute(query)"
   ]
  },
  {
   "cell_type": "code",
   "execution_count": 9,
   "metadata": {},
   "outputs": [
    {
     "data": {
      "text/plain": [
       "[(1,\n",
       "  'Adams',\n",
       "  'Andrew',\n",
       "  'General Manager',\n",
       "  None,\n",
       "  '1962-02-18 00:00:00',\n",
       "  '2002-08-14 00:00:00',\n",
       "  '11120 Jasper Ave NW',\n",
       "  'Edmonton',\n",
       "  'AB',\n",
       "  'Canada',\n",
       "  'T5K 2N1',\n",
       "  '+1 (780) 428-9482',\n",
       "  '+1 (780) 428-3457',\n",
       "  'andrew@chinookcorp.com'),\n",
       " (2,\n",
       "  'Edwards',\n",
       "  'Nancy',\n",
       "  'Sales Manager',\n",
       "  1,\n",
       "  '1958-12-08 00:00:00',\n",
       "  '2002-05-01 00:00:00',\n",
       "  '825 8 Ave SW',\n",
       "  'Calgary',\n",
       "  'AB',\n",
       "  'Canada',\n",
       "  'T2P 2T3',\n",
       "  '+1 (403) 262-3443',\n",
       "  '+1 (403) 262-3322',\n",
       "  'nancy@chinookcorp.com'),\n",
       " (3,\n",
       "  'Peacock',\n",
       "  'Jane',\n",
       "  'Sales Support Agent',\n",
       "  2,\n",
       "  '1973-08-29 00:00:00',\n",
       "  '2002-04-01 00:00:00',\n",
       "  '1111 6 Ave SW',\n",
       "  'Calgary',\n",
       "  'AB',\n",
       "  'Canada',\n",
       "  'T2P 5M5',\n",
       "  '+1 (403) 262-3443',\n",
       "  '+1 (403) 262-6712',\n",
       "  'jane@chinookcorp.com'),\n",
       " (4,\n",
       "  'Park',\n",
       "  'Margaret',\n",
       "  'Sales Support Agent',\n",
       "  2,\n",
       "  '1947-09-19 00:00:00',\n",
       "  '2003-05-03 00:00:00',\n",
       "  '683 10 Street SW',\n",
       "  'Calgary',\n",
       "  'AB',\n",
       "  'Canada',\n",
       "  'T2P 5G3',\n",
       "  '+1 (403) 263-4423',\n",
       "  '+1 (403) 263-4289',\n",
       "  'margaret@chinookcorp.com'),\n",
       " (5,\n",
       "  'Johnson',\n",
       "  'Steve',\n",
       "  'Sales Support Agent',\n",
       "  2,\n",
       "  '1965-03-03 00:00:00',\n",
       "  '2003-10-17 00:00:00',\n",
       "  '7727B 41 Ave',\n",
       "  'Calgary',\n",
       "  'AB',\n",
       "  'Canada',\n",
       "  'T3B 1Y7',\n",
       "  '1 (780) 836-9987',\n",
       "  '1 (780) 836-9543',\n",
       "  'steve@chinookcorp.com'),\n",
       " (6,\n",
       "  'Mitchell',\n",
       "  'Michael',\n",
       "  'IT Manager',\n",
       "  1,\n",
       "  '1973-07-01 00:00:00',\n",
       "  '2003-10-17 00:00:00',\n",
       "  '5827 Bowness Road NW',\n",
       "  'Calgary',\n",
       "  'AB',\n",
       "  'Canada',\n",
       "  'T3B 0C5',\n",
       "  '+1 (403) 246-9887',\n",
       "  '+1 (403) 246-9899',\n",
       "  'michael@chinookcorp.com'),\n",
       " (7,\n",
       "  'King',\n",
       "  'Robert',\n",
       "  'IT Staff',\n",
       "  6,\n",
       "  '1970-05-29 00:00:00',\n",
       "  '2004-01-02 00:00:00',\n",
       "  '590 Columbia Boulevard West',\n",
       "  'Lethbridge',\n",
       "  'AB',\n",
       "  'Canada',\n",
       "  'T1K 5N8',\n",
       "  '+1 (403) 456-9986',\n",
       "  '+1 (403) 456-8485',\n",
       "  'robert@chinookcorp.com'),\n",
       " (8,\n",
       "  'Callahan',\n",
       "  'Laura',\n",
       "  'IT Staff',\n",
       "  6,\n",
       "  '1968-01-09 00:00:00',\n",
       "  '2004-03-04 00:00:00',\n",
       "  '923 7 ST NW',\n",
       "  'Lethbridge',\n",
       "  'AB',\n",
       "  'Canada',\n",
       "  'T1H 1Y8',\n",
       "  '+1 (403) 467-3351',\n",
       "  '+1 (403) 467-8772',\n",
       "  'laura@chinookcorp.com')]"
      ]
     },
     "execution_count": 9,
     "metadata": {},
     "output_type": "execute_result"
    }
   ],
   "source": [
    "cur.fetchall()"
   ]
  },
  {
   "cell_type": "code",
   "execution_count": 12,
   "metadata": {},
   "outputs": [
    {
     "name": "stdout",
     "output_type": "stream",
     "text": [
      "8\n",
      "(1, 'Adams', 'Andrew', 'General Manager', None, '1962-02-18 00:00:00', '2002-08-14 00:00:00', '11120 Jasper Ave NW', 'Edmonton', 'AB', 'Canada', 'T5K 2N1', '+1 (780) 428-9482', '+1 (780) 428-3457', 'andrew@chinookcorp.com')\n",
      "(2, 'Edwards', 'Nancy', 'Sales Manager', 1, '1958-12-08 00:00:00', '2002-05-01 00:00:00', '825 8 Ave SW', 'Calgary', 'AB', 'Canada', 'T2P 2T3', '+1 (403) 262-3443', '+1 (403) 262-3322', 'nancy@chinookcorp.com')\n",
      "(3, 'Peacock', 'Jane', 'Sales Support Agent', 2, '1973-08-29 00:00:00', '2002-04-01 00:00:00', '1111 6 Ave SW', 'Calgary', 'AB', 'Canada', 'T2P 5M5', '+1 (403) 262-3443', '+1 (403) 262-6712', 'jane@chinookcorp.com')\n",
      "(4, 'Park', 'Margaret', 'Sales Support Agent', 2, '1947-09-19 00:00:00', '2003-05-03 00:00:00', '683 10 Street SW', 'Calgary', 'AB', 'Canada', 'T2P 5G3', '+1 (403) 263-4423', '+1 (403) 263-4289', 'margaret@chinookcorp.com')\n",
      "(5, 'Johnson', 'Steve', 'Sales Support Agent', 2, '1965-03-03 00:00:00', '2003-10-17 00:00:00', '7727B 41 Ave', 'Calgary', 'AB', 'Canada', 'T3B 1Y7', '1 (780) 836-9987', '1 (780) 836-9543', 'steve@chinookcorp.com')\n",
      "(6, 'Mitchell', 'Michael', 'IT Manager', 1, '1973-07-01 00:00:00', '2003-10-17 00:00:00', '5827 Bowness Road NW', 'Calgary', 'AB', 'Canada', 'T3B 0C5', '+1 (403) 246-9887', '+1 (403) 246-9899', 'michael@chinookcorp.com')\n",
      "(7, 'King', 'Robert', 'IT Staff', 6, '1970-05-29 00:00:00', '2004-01-02 00:00:00', '590 Columbia Boulevard West', 'Lethbridge', 'AB', 'Canada', 'T1K 5N8', '+1 (403) 456-9986', '+1 (403) 456-8485', 'robert@chinookcorp.com')\n",
      "(8, 'Callahan', 'Laura', 'IT Staff', 6, '1968-01-09 00:00:00', '2004-03-04 00:00:00', '923 7 ST NW', 'Lethbridge', 'AB', 'Canada', 'T1H 1Y8', '+1 (403) 467-3351', '+1 (403) 467-8772', 'laura@chinookcorp.com')\n"
     ]
    }
   ],
   "source": [
    "records = cur.fetchall()\n",
    "print(len(records))\n",
    "for record in records:\n",
    "    print(record)"
   ]
  },
  {
   "cell_type": "code",
   "execution_count": 13,
   "metadata": {},
   "outputs": [
    {
     "data": {
      "text/plain": [
       "(2,\n",
       " 'Edwards',\n",
       " 'Nancy',\n",
       " 'Sales Manager',\n",
       " 1,\n",
       " '1958-12-08 00:00:00',\n",
       " '2002-05-01 00:00:00',\n",
       " '825 8 Ave SW',\n",
       " 'Calgary',\n",
       " 'AB',\n",
       " 'Canada',\n",
       " 'T2P 2T3',\n",
       " '+1 (403) 262-3443',\n",
       " '+1 (403) 262-3322',\n",
       " 'nancy@chinookcorp.com')"
      ]
     },
     "execution_count": 13,
     "metadata": {},
     "output_type": "execute_result"
    }
   ],
   "source": [
    "records[1]"
   ]
  },
  {
   "cell_type": "code",
   "execution_count": 14,
   "metadata": {},
   "outputs": [],
   "source": [
    "con.close()"
   ]
  },
  {
   "cell_type": "code",
   "execution_count": 15,
   "metadata": {},
   "outputs": [],
   "source": [
    "import sqlite3\n",
    "con = sqlite3.connect('sports.db')"
   ]
  },
  {
   "cell_type": "code",
   "execution_count": 16,
   "metadata": {},
   "outputs": [],
   "source": [
    "curb = con.cursor()"
   ]
  },
  {
   "cell_type": "code",
   "execution_count": 17,
   "metadata": {},
   "outputs": [],
   "source": [
    "q = \"CREATE TABLE players (id integer PRIMARY KEY, name text, sport text, \\\n",
    "earn real, country text)\" "
   ]
  },
  {
   "cell_type": "code",
   "execution_count": 18,
   "metadata": {},
   "outputs": [
    {
     "data": {
      "text/plain": [
       "<sqlite3.Cursor at 0x2699dd871f0>"
      ]
     },
     "execution_count": 18,
     "metadata": {},
     "output_type": "execute_result"
    }
   ],
   "source": [
    "curb.execute(q)"
   ]
  },
  {
   "cell_type": "code",
   "execution_count": 20,
   "metadata": {},
   "outputs": [],
   "source": [
    "q = \"INSERT into players values (12, 'federer', 'tennis', 4050600, 'swiss')\""
   ]
  },
  {
   "cell_type": "code",
   "execution_count": 21,
   "metadata": {},
   "outputs": [
    {
     "data": {
      "text/plain": [
       "<sqlite3.Cursor at 0x2699dd871f0>"
      ]
     },
     "execution_count": 21,
     "metadata": {},
     "output_type": "execute_result"
    }
   ],
   "source": [
    "curb.execute(q)"
   ]
  },
  {
   "cell_type": "code",
   "execution_count": 22,
   "metadata": {},
   "outputs": [],
   "source": [
    "con.commit()"
   ]
  },
  {
   "cell_type": "code",
   "execution_count": 23,
   "metadata": {},
   "outputs": [],
   "source": [
    "q = \"INSERT into players (id, name, sport, earn, country) VALUES (?,?,?,?,?)\""
   ]
  },
  {
   "cell_type": "code",
   "execution_count": 24,
   "metadata": {},
   "outputs": [
    {
     "data": {
      "text/plain": [
       "<sqlite3.Cursor at 0x2699dd871f0>"
      ]
     },
     "execution_count": 24,
     "metadata": {},
     "output_type": "execute_result"
    }
   ],
   "source": [
    "curb.execute(q, [14, 'senna', 'foruma1', 346780, 'brazil'])"
   ]
  },
  {
   "cell_type": "code",
   "execution_count": 25,
   "metadata": {},
   "outputs": [],
   "source": [
    "con.commit()"
   ]
  },
  {
   "cell_type": "code",
   "execution_count": 26,
   "metadata": {},
   "outputs": [],
   "source": [
    "lista = [16, 'lebron', 'basketball', 408920, 'US']\n",
    "listb = [20, 'smriti', 'cricket', 12054, 'india']\n",
    "listc = [18, 'saina', 'badminton', 28230, 'india']"
   ]
  },
  {
   "cell_type": "code",
   "execution_count": 27,
   "metadata": {},
   "outputs": [],
   "source": [
    "tupa = (lista, listb, listc)"
   ]
  },
  {
   "cell_type": "code",
   "execution_count": 28,
   "metadata": {},
   "outputs": [],
   "source": [
    "listd = [22, 'ronaldo', 'football', 680234, 'portugal']"
   ]
  },
  {
   "cell_type": "code",
   "execution_count": 29,
   "metadata": {},
   "outputs": [],
   "source": [
    "curb.execute(q, listd)\n",
    "con.commit()"
   ]
  },
  {
   "cell_type": "code",
   "execution_count": 30,
   "metadata": {},
   "outputs": [],
   "source": [
    "curb.executemany(q, tupa)\n",
    "con.commit()"
   ]
  },
  {
   "cell_type": "code",
   "execution_count": 31,
   "metadata": {},
   "outputs": [],
   "source": [
    "q = \"UPDATE players SET name = 'RON' where id = 22\""
   ]
  },
  {
   "cell_type": "code",
   "execution_count": 32,
   "metadata": {},
   "outputs": [],
   "source": [
    "curb.execute(q)\n",
    "con.commit()"
   ]
  },
  {
   "cell_type": "code",
   "execution_count": 33,
   "metadata": {},
   "outputs": [],
   "source": [
    "q = \"SELECT * FROM players\""
   ]
  },
  {
   "cell_type": "code",
   "execution_count": 34,
   "metadata": {},
   "outputs": [
    {
     "data": {
      "text/plain": [
       "<sqlite3.Cursor at 0x2699dd871f0>"
      ]
     },
     "execution_count": 34,
     "metadata": {},
     "output_type": "execute_result"
    }
   ],
   "source": [
    "curb.execute(q)"
   ]
  },
  {
   "cell_type": "code",
   "execution_count": 35,
   "metadata": {},
   "outputs": [],
   "source": [
    "data = curb.fetchall()"
   ]
  },
  {
   "cell_type": "code",
   "execution_count": 37,
   "metadata": {},
   "outputs": [
    {
     "name": "stdout",
     "output_type": "stream",
     "text": [
      "(12, 'federer', 'tennis', 4050600.0, 'swiss')\n",
      "(14, 'senna', 'foruma1', 346780.0, 'brazil')\n",
      "(16, 'lebron', 'basketball', 408920.0, 'US')\n",
      "(18, 'saina', 'badminton', 28230.0, 'india')\n",
      "(20, 'smriti', 'cricket', 12054.0, 'india')\n",
      "(22, 'RON', 'football', 680234.0, 'portugal')\n"
     ]
    }
   ],
   "source": [
    "import time\n",
    "for rec in data:\n",
    "    print(rec)\n",
    "    time.sleep(1)"
   ]
  },
  {
   "cell_type": "code",
   "execution_count": null,
   "metadata": {},
   "outputs": [],
   "source": []
  }
 ],
 "metadata": {
  "kernelspec": {
   "display_name": "Python 3",
   "language": "python",
   "name": "python3"
  },
  "language_info": {
   "codemirror_mode": {
    "name": "ipython",
    "version": 3
   },
   "file_extension": ".py",
   "mimetype": "text/x-python",
   "name": "python",
   "nbconvert_exporter": "python",
   "pygments_lexer": "ipython3",
   "version": "3.7.4"
  }
 },
 "nbformat": 4,
 "nbformat_minor": 2
}
