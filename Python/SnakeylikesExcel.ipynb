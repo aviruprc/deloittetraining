{
 "cells": [
  {
   "cell_type": "code",
   "execution_count": 2,
   "metadata": {},
   "outputs": [],
   "source": [
    "from openpyxl import Workbook\n",
    "from openpyxl import load_workbook"
   ]
  },
  {
   "cell_type": "code",
   "execution_count": 3,
   "metadata": {},
   "outputs": [],
   "source": [
    "wba = Workbook()"
   ]
  },
  {
   "cell_type": "code",
   "execution_count": 4,
   "metadata": {},
   "outputs": [],
   "source": [
    "wsa = wba.active"
   ]
  },
  {
   "cell_type": "code",
   "execution_count": 5,
   "metadata": {},
   "outputs": [],
   "source": [
    "wsb = wba.create_sheet(title='windows')"
   ]
  },
  {
   "cell_type": "code",
   "execution_count": 6,
   "metadata": {},
   "outputs": [],
   "source": [
    "wsa.title = 'linux'"
   ]
  },
  {
   "cell_type": "code",
   "execution_count": 7,
   "metadata": {},
   "outputs": [],
   "source": [
    "tempa = wsa.cell(row=2, column=2)"
   ]
  },
  {
   "cell_type": "code",
   "execution_count": 8,
   "metadata": {},
   "outputs": [
    {
     "data": {
      "text/plain": [
       "'B2'"
      ]
     },
     "execution_count": 8,
     "metadata": {},
     "output_type": "execute_result"
    }
   ],
   "source": [
    "tempa.coordinate"
   ]
  },
  {
   "cell_type": "code",
   "execution_count": 9,
   "metadata": {},
   "outputs": [],
   "source": [
    "tempa.value = \"hi there\""
   ]
  },
  {
   "cell_type": "code",
   "execution_count": 10,
   "metadata": {},
   "outputs": [],
   "source": [
    "wsa.cell(row=5, column=4).value = 456"
   ]
  },
  {
   "cell_type": "code",
   "execution_count": 11,
   "metadata": {},
   "outputs": [],
   "source": [
    "wsa['D3'] = 54.78"
   ]
  },
  {
   "cell_type": "code",
   "execution_count": 12,
   "metadata": {},
   "outputs": [],
   "source": [
    "wba.save('two.xlsx')"
   ]
  },
  {
   "cell_type": "code",
   "execution_count": 13,
   "metadata": {},
   "outputs": [],
   "source": [
    "wba.close()"
   ]
  },
  {
   "cell_type": "code",
   "execution_count": 14,
   "metadata": {},
   "outputs": [
    {
     "data": {
      "text/plain": [
       "openpyxl.workbook.workbook.Workbook"
      ]
     },
     "execution_count": 14,
     "metadata": {},
     "output_type": "execute_result"
    }
   ],
   "source": [
    "type(wba)"
   ]
  },
  {
   "cell_type": "code",
   "execution_count": 15,
   "metadata": {},
   "outputs": [
    {
     "data": {
      "text/plain": [
       "openpyxl.worksheet.worksheet.Worksheet"
      ]
     },
     "execution_count": 15,
     "metadata": {},
     "output_type": "execute_result"
    }
   ],
   "source": [
    "type(wsa)"
   ]
  },
  {
   "cell_type": "code",
   "execution_count": 16,
   "metadata": {},
   "outputs": [
    {
     "data": {
      "text/plain": [
       "openpyxl.cell.cell.Cell"
      ]
     },
     "execution_count": 16,
     "metadata": {},
     "output_type": "execute_result"
    }
   ],
   "source": [
    "type(tempa)"
   ]
  },
  {
   "cell_type": "code",
   "execution_count": 17,
   "metadata": {},
   "outputs": [
    {
     "data": {
      "text/plain": [
       "str"
      ]
     },
     "execution_count": 17,
     "metadata": {},
     "output_type": "execute_result"
    }
   ],
   "source": [
    "type(tempa.value)"
   ]
  },
  {
   "cell_type": "code",
   "execution_count": 18,
   "metadata": {},
   "outputs": [],
   "source": [
    "from openpyxl import load_workbook\n",
    "wbb = load_workbook('one.xlsx')"
   ]
  },
  {
   "cell_type": "code",
   "execution_count": 19,
   "metadata": {},
   "outputs": [
    {
     "data": {
      "text/plain": [
       "['nex', 'wave']"
      ]
     },
     "execution_count": 19,
     "metadata": {},
     "output_type": "execute_result"
    }
   ],
   "source": [
    "wbb.sheetnames"
   ]
  },
  {
   "cell_type": "code",
   "execution_count": 20,
   "metadata": {},
   "outputs": [],
   "source": [
    "wsn = wbb['nex']"
   ]
  },
  {
   "cell_type": "code",
   "execution_count": 21,
   "metadata": {},
   "outputs": [],
   "source": [
    "wsn = wbb[wbb.sheetnames[0]]"
   ]
  },
  {
   "cell_type": "code",
   "execution_count": 22,
   "metadata": {},
   "outputs": [],
   "source": [
    "listx = []\n",
    "for i in range(1, 10):\n",
    "    listx.append(wsn.cell(column=2, row=i).value)\n"
   ]
  },
  {
   "cell_type": "code",
   "execution_count": 23,
   "metadata": {},
   "outputs": [
    {
     "data": {
      "text/plain": [
       "[23, 45, 67, 89, 12, 99, 15, 27, 45]"
      ]
     },
     "execution_count": 23,
     "metadata": {},
     "output_type": "execute_result"
    }
   ],
   "source": [
    "listx"
   ]
  },
  {
   "cell_type": "code",
   "execution_count": 24,
   "metadata": {},
   "outputs": [],
   "source": [
    "listx = []\n",
    "for i in range(1, wsn.max_column+1):\n",
    "    listtemp = []\n",
    "    for j in range(1, wsn.max_row+1):\n",
    "        listtemp.append(wsn.cell(column=i, row=j).value)\n",
    "    listx.append(listtemp)"
   ]
  },
  {
   "cell_type": "code",
   "execution_count": 25,
   "metadata": {},
   "outputs": [
    {
     "name": "stdout",
     "output_type": "stream",
     "text": [
      "[['aa', 'bb', 'cc', 'dd', 'ee', 'rr', 'uu', 'ii', 'oo'], [23, 45, 67, 89, 12, 99, 15, 27, 45], [98, 56, 12, -30.6666666666667, -73.6666666666667, -116.666666666667, -159.666666666667, -202.666666666667, -245.666666666667]]\n"
     ]
    }
   ],
   "source": [
    "print(listx)"
   ]
  },
  {
   "cell_type": "code",
   "execution_count": 26,
   "metadata": {},
   "outputs": [],
   "source": [
    "listx = []\n",
    "for i in range(1, wsn.max_row+1):\n",
    "    listtemp = []\n",
    "    for j in range(1, wsn.max_column+1):\n",
    "        listtemp.append(wsn.cell(column=j, row=i).value)\n",
    "    listx.append(listtemp)"
   ]
  },
  {
   "cell_type": "code",
   "execution_count": 27,
   "metadata": {},
   "outputs": [
    {
     "data": {
      "text/plain": [
       "[['aa', 23, 98],\n",
       " ['bb', 45, 56],\n",
       " ['cc', 67, 12],\n",
       " ['dd', 89, -30.6666666666667],\n",
       " ['ee', 12, -73.6666666666667],\n",
       " ['rr', 99, -116.666666666667],\n",
       " ['uu', 15, -159.666666666667],\n",
       " ['ii', 27, -202.666666666667],\n",
       " ['oo', 45, -245.666666666667]]"
      ]
     },
     "execution_count": 27,
     "metadata": {},
     "output_type": "execute_result"
    }
   ],
   "source": [
    "listx"
   ]
  },
  {
   "cell_type": "code",
   "execution_count": 32,
   "metadata": {},
   "outputs": [],
   "source": [
    "def funcavg():\n",
    "    \"\"\"function to calculate average of rows from excel\n",
    "    please enter name of the exel doc, column, rows\"\"\"\n",
    "    wba = load_workbook(input(\"enter excel sheet : \"))\n",
    "    wsa = wba[wba.sheetnames[0]]\n",
    "    col = int(input(\"enter the column: \"))\n",
    "    maxrow = int(input(\"enter max rows: \"))\n",
    "    if maxrow == 0:\n",
    "        maxrow = wsa.max_row\n",
    "    listx = []\n",
    "    for i in range(1, maxrow+1):\n",
    "        listx.append(wsa.cell(row=i, column=col).value)\n",
    "    avg = sum(listx)/len(listx)\n",
    "    return avg"
   ]
  },
  {
   "cell_type": "code",
   "execution_count": 33,
   "metadata": {},
   "outputs": [
    {
     "name": "stdout",
     "output_type": "stream",
     "text": [
      "enter excel sheet : one.xlsx\n",
      "enter the column: 2\n",
      "enter max rows: 0\n"
     ]
    }
   ],
   "source": [
    "avg = funcavg()"
   ]
  },
  {
   "cell_type": "code",
   "execution_count": 34,
   "metadata": {},
   "outputs": [
    {
     "name": "stdout",
     "output_type": "stream",
     "text": [
      "46.888888888888886\n"
     ]
    }
   ],
   "source": [
    "print(avg)"
   ]
  },
  {
   "cell_type": "code",
   "execution_count": 35,
   "metadata": {},
   "outputs": [],
   "source": [
    "wbc = Workbook()"
   ]
  },
  {
   "cell_type": "code",
   "execution_count": 36,
   "metadata": {},
   "outputs": [],
   "source": [
    "wsc = wbc.active"
   ]
  },
  {
   "cell_type": "code",
   "execution_count": 37,
   "metadata": {},
   "outputs": [],
   "source": [
    "from openpyxl import load_workbook\n",
    "wbb = load_workbook('one.xlsx')"
   ]
  },
  {
   "cell_type": "code",
   "execution_count": 38,
   "metadata": {},
   "outputs": [],
   "source": [
    "wsw = wbb[wbb.sheetnames[1]]"
   ]
  },
  {
   "cell_type": "code",
   "execution_count": 39,
   "metadata": {},
   "outputs": [],
   "source": [
    "tempc = wsw.cell(row=7, column=1)"
   ]
  },
  {
   "cell_type": "code",
   "execution_count": 40,
   "metadata": {},
   "outputs": [
    {
     "data": {
      "text/plain": [
       "'hello there'"
      ]
     },
     "execution_count": 40,
     "metadata": {},
     "output_type": "execute_result"
    }
   ],
   "source": [
    "tempc.value"
   ]
  },
  {
   "cell_type": "code",
   "execution_count": 41,
   "metadata": {},
   "outputs": [
    {
     "data": {
      "text/plain": [
       "Comment: some random comment by Author"
      ]
     },
     "execution_count": 41,
     "metadata": {},
     "output_type": "execute_result"
    }
   ],
   "source": [
    "tempc.comment"
   ]
  },
  {
   "cell_type": "code",
   "execution_count": 45,
   "metadata": {},
   "outputs": [],
   "source": [
    "wbc = Workbook()\n",
    "wsc = wbc.active"
   ]
  },
  {
   "cell_type": "code",
   "execution_count": 46,
   "metadata": {},
   "outputs": [],
   "source": [
    "wsc['A2'] = 23\n",
    "wsc['A3'] = 56\n",
    "wsc['A5'] = \"=SUM(A2, A3)\""
   ]
  },
  {
   "cell_type": "code",
   "execution_count": 47,
   "metadata": {},
   "outputs": [],
   "source": [
    "wbc.save('three.xlsx')"
   ]
  },
  {
   "cell_type": "code",
   "execution_count": 48,
   "metadata": {},
   "outputs": [],
   "source": [
    "from openpyxl import Workbook\n",
    "from openpyxl.drawing.image import Image\n",
    "\n",
    "wbi = Workbook()\n",
    "wsi = wbi.active\n",
    "\n",
    "wsi['B2'] = 'logo comes below'\n",
    "\n",
    "imgobj = Image('download.png')\n",
    "\n",
    "wsi.add_image(imgobj, 'B4')\n",
    "\n",
    "wbi.save('image.xlsx')"
   ]
  },
  {
   "cell_type": "code",
   "execution_count": 49,
   "metadata": {},
   "outputs": [],
   "source": [
    "from openpyxl import Workbook\n",
    "from openpyxl.chart import BarChart, Reference\n",
    "\n",
    "wbc = Workbook()\n",
    "wsc = wbc.active\n",
    "\n",
    "wsc.cell(row=1, column=4)\n",
    "for i in range(10):\n",
    "    wsc.append([i])\n",
    "\n",
    "values = Reference(wsc, min_col=1, min_row=1, max_col=1, max_row=10)\n",
    "chartobj = BarChart()\n",
    "chartobj.add_data(values)\n",
    "\n",
    "wsc.add_chart(chartobj, 'E12')\n",
    "wbc.save('chart.xlsx')"
   ]
  },
  {
   "cell_type": "code",
   "execution_count": 50,
   "metadata": {},
   "outputs": [],
   "source": [
    "from openpyxl import Workbook\n",
    "from openpyxl.chart import BarChart, Reference\n",
    "\n",
    "wbc = Workbook()\n",
    "wsc = wbc.active\n",
    "\n",
    "wsc.cell(row=1, column=4).value = 20\n",
    "\n",
    "for i in range(10):\n",
    "    wsc.append([i])\n",
    "    \n",
    "wbc.save('temp.xlsx')"
   ]
  },
  {
   "cell_type": "code",
   "execution_count": 51,
   "metadata": {},
   "outputs": [
    {
     "name": "stdout",
     "output_type": "stream",
     "text": [
      "Help on method append in module openpyxl.worksheet.worksheet:\n",
      "\n",
      "append(iterable) method of openpyxl.worksheet.worksheet.Worksheet instance\n",
      "    Appends a group of values at the bottom of the current sheet.\n",
      "    \n",
      "    * If it's a list: all values are added in order, starting from the first column\n",
      "    * If it's a dict: values are assigned to the columns indicated by the keys (numbers or letters)\n",
      "    \n",
      "    :param iterable: list, range or generator, or dict containing values to append\n",
      "    :type iterable: list|tuple|range|generator or dict\n",
      "    \n",
      "    Usage:\n",
      "    \n",
      "    * append(['This is A1', 'This is B1', 'This is C1'])\n",
      "    * **or** append({'A' : 'This is A1', 'C' : 'This is C1'})\n",
      "    * **or** append({1 : 'This is A1', 3 : 'This is C1'})\n",
      "    \n",
      "    :raise: TypeError when iterable is neither a list/tuple nor a dict\n",
      "\n"
     ]
    }
   ],
   "source": [
    "help(wsc.append)"
   ]
  },
  {
   "cell_type": "code",
   "execution_count": null,
   "metadata": {},
   "outputs": [],
   "source": []
  }
 ],
 "metadata": {
  "kernelspec": {
   "display_name": "Python 3",
   "language": "python",
   "name": "python3"
  },
  "language_info": {
   "codemirror_mode": {
    "name": "ipython",
    "version": 3
   },
   "file_extension": ".py",
   "mimetype": "text/x-python",
   "name": "python",
   "nbconvert_exporter": "python",
   "pygments_lexer": "ipython3",
   "version": "3.7.4"
  }
 },
 "nbformat": 4,
 "nbformat_minor": 2
}
