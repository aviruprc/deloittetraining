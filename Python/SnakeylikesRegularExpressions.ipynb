{
 "cells": [
  {
   "cell_type": "code",
   "execution_count": 1,
   "metadata": {},
   "outputs": [],
   "source": [
    "import re"
   ]
  },
  {
   "cell_type": "code",
   "execution_count": 4,
   "metadata": {},
   "outputs": [
    {
     "name": "stdout",
     "output_type": "stream",
     "text": [
      "it's a match\n"
     ]
    }
   ],
   "source": [
    "stra = 'asia'\n",
    "res = re.match(pat, stra)\n",
    "\n",
    "if res :\n",
    "    print(\"it's a match\")\n",
    "else:\n",
    "    print(\"not a match\")"
   ]
  },
  {
   "cell_type": "code",
   "execution_count": 3,
   "metadata": {},
   "outputs": [],
   "source": [
    "pat = '^a..a$'"
   ]
  },
  {
   "cell_type": "code",
   "execution_count": 5,
   "metadata": {},
   "outputs": [
    {
     "name": "stdout",
     "output_type": "stream",
     "text": [
      "not a match\n"
     ]
    }
   ],
   "source": [
    "stra = 'asit'\n",
    "res = re.match(pat, stra)\n",
    "\n",
    "if res :\n",
    "    print(\"it's a match\")\n",
    "else:\n",
    "    print(\"not a match\")"
   ]
  },
  {
   "cell_type": "code",
   "execution_count": 8,
   "metadata": {},
   "outputs": [
    {
     "name": "stdout",
     "output_type": "stream",
     "text": [
      "say hello, it will heal heaven and hell\n",
      "3\n",
      "['hell', 'heal', 'hell']\n"
     ]
    }
   ],
   "source": [
    "stra = input()\n",
    "pat = 'h..l'\n",
    "\n",
    "res = re.findall(pat, stra)\n",
    "print(len(res))\n",
    "print(res)"
   ]
  },
  {
   "cell_type": "code",
   "execution_count": 7,
   "metadata": {},
   "outputs": [
    {
     "name": "stdout",
     "output_type": "stream",
     "text": [
      " say hello, it will heal heaven and hell heeelo hello\n",
      "4\n",
      "['hell', 'heal', 'hell', 'hell']\n"
     ]
    }
   ],
   "source": [
    "stra = input()\n",
    "pat = 'h..l'\n",
    "\n",
    "res = re.findall(pat, stra)\n",
    "print(len(res))\n",
    "print(res)"
   ]
  },
  {
   "cell_type": "code",
   "execution_count": null,
   "metadata": {},
   "outputs": [],
   "source": [
    "\n",
    "fa = open('hi.txt', 'r')"
   ]
  }
 ],
 "metadata": {
  "kernelspec": {
   "display_name": "Python 3",
   "language": "python",
   "name": "python3"
  },
  "language_info": {
   "codemirror_mode": {
    "name": "ipython",
    "version": 3
   },
   "file_extension": ".py",
   "mimetype": "text/x-python",
   "name": "python",
   "nbconvert_exporter": "python",
   "pygments_lexer": "ipython3",
   "version": "3.7.4"
  }
 },
 "nbformat": 4,
 "nbformat_minor": 2
}
