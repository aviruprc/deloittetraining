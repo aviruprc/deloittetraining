{
 "cells": [
  {
   "cell_type": "code",
   "execution_count": 1,
   "metadata": {},
   "outputs": [],
   "source": [
    "lista = ['netflix', 'prime' ,'hotstar','zee5', ['disney','hbo','tv+']]"
   ]
  },
  {
   "cell_type": "code",
   "execution_count": 2,
   "metadata": {},
   "outputs": [],
   "source": [
    "lista.append('Altbalaji')"
   ]
  },
  {
   "cell_type": "code",
   "execution_count": 3,
   "metadata": {},
   "outputs": [
    {
     "data": {
      "text/plain": [
       "['netflix', 'prime', 'hotstar', 'zee5', ['disney', 'hbo', 'tv+'], 'Altbalaji']"
      ]
     },
     "execution_count": 3,
     "metadata": {},
     "output_type": "execute_result"
    }
   ],
   "source": [
    "lista"
   ]
  },
  {
   "cell_type": "code",
   "execution_count": 4,
   "metadata": {},
   "outputs": [],
   "source": [
    "listacopy = lista.copy"
   ]
  },
  {
   "cell_type": "code",
   "execution_count": 5,
   "metadata": {},
   "outputs": [
    {
     "data": {
      "text/plain": [
       "<function list.copy()>"
      ]
     },
     "execution_count": 5,
     "metadata": {},
     "output_type": "execute_result"
    }
   ],
   "source": [
    "listacopy\n"
   ]
  },
  {
   "cell_type": "code",
   "execution_count": 6,
   "metadata": {},
   "outputs": [],
   "source": [
    "listacopy = lista.copy()"
   ]
  },
  {
   "cell_type": "code",
   "execution_count": 7,
   "metadata": {},
   "outputs": [
    {
     "data": {
      "text/plain": [
       "['netflix', 'prime', 'hotstar', 'zee5', ['disney', 'hbo', 'tv+'], 'Altbalaji']"
      ]
     },
     "execution_count": 7,
     "metadata": {},
     "output_type": "execute_result"
    }
   ],
   "source": [
    "listacopy"
   ]
  },
  {
   "cell_type": "code",
   "execution_count": 8,
   "metadata": {},
   "outputs": [],
   "source": [
    "del listacopy"
   ]
  },
  {
   "cell_type": "code",
   "execution_count": 9,
   "metadata": {},
   "outputs": [
    {
     "ename": "NameError",
     "evalue": "name 'listacopy' is not defined",
     "output_type": "error",
     "traceback": [
      "\u001b[1;31m---------------------------------------------------------------------------\u001b[0m",
      "\u001b[1;31mNameError\u001b[0m                                 Traceback (most recent call last)",
      "\u001b[1;32m<ipython-input-9-f79d54a35593>\u001b[0m in \u001b[0;36m<module>\u001b[1;34m\u001b[0m\n\u001b[1;32m----> 1\u001b[1;33m \u001b[0mlistacopy\u001b[0m\u001b[1;33m\u001b[0m\u001b[1;33m\u001b[0m\u001b[0m\n\u001b[0m",
      "\u001b[1;31mNameError\u001b[0m: name 'listacopy' is not defined"
     ]
    }
   ],
   "source": [
    "listacopy"
   ]
  },
  {
   "cell_type": "code",
   "execution_count": 10,
   "metadata": {},
   "outputs": [],
   "source": [
    "# let's try loops now"
   ]
  },
  {
   "cell_type": "code",
   "execution_count": 14,
   "metadata": {},
   "outputs": [
    {
     "name": "stdout",
     "output_type": "stream",
     "text": [
      "Second\n"
     ]
    }
   ],
   "source": [
    "if lista[0] == 'prime':\n",
    "    print(\"First condition\")\n",
    "elif lista[0] < 'prime':\n",
    "    print(\"Second\")\n",
    "else:\n",
    "    print(\"This is the else condition\")"
   ]
  },
  {
   "cell_type": "code",
   "execution_count": 15,
   "metadata": {},
   "outputs": [
    {
     "name": "stdout",
     "output_type": "stream",
     "text": [
      "This is the else condition\n"
     ]
    }
   ],
   "source": [
    "if lista[0] == 'prime':\n",
    "    print(\"First condition\")\n",
    "elif lista[0] > 'prime':\n",
    "    print(\"Second\")\n",
    "else:\n",
    "    print(\"This is the else condition\")"
   ]
  },
  {
   "cell_type": "code",
   "execution_count": 16,
   "metadata": {},
   "outputs": [
    {
     "name": "stdout",
     "output_type": "stream",
     "text": [
      "First condition\n"
     ]
    }
   ],
   "source": [
    "if lista[1] == 'prime':\n",
    "    print(\"First condition\")\n",
    "elif lista[0] > 'prime':\n",
    "    print(\"Second\")\n",
    "else:\n",
    "    print(\"This is the else condition\")"
   ]
  },
  {
   "cell_type": "code",
   "execution_count": 17,
   "metadata": {},
   "outputs": [],
   "source": [
    "# there isn't any switch case in Python\n"
   ]
  },
  {
   "cell_type": "code",
   "execution_count": 18,
   "metadata": {},
   "outputs": [
    {
     "ename": "SyntaxError",
     "evalue": "invalid syntax (<ipython-input-18-9a3c2696184c>, line 1)",
     "output_type": "error",
     "traceback": [
      "\u001b[1;36m  File \u001b[1;32m\"<ipython-input-18-9a3c2696184c>\"\u001b[1;36m, line \u001b[1;32m1\u001b[0m\n\u001b[1;33m    while(True)\u001b[0m\n\u001b[1;37m               ^\u001b[0m\n\u001b[1;31mSyntaxError\u001b[0m\u001b[1;31m:\u001b[0m invalid syntax\n"
     ]
    }
   ],
   "source": [
    "while(True)"
   ]
  },
  {
   "cell_type": "code",
   "execution_count": 19,
   "metadata": {},
   "outputs": [
    {
     "ename": "SyntaxError",
     "evalue": "unexpected EOF while parsing (<ipython-input-19-bfea918c25ae>, line 2)",
     "output_type": "error",
     "traceback": [
      "\u001b[1;36m  File \u001b[1;32m\"<ipython-input-19-bfea918c25ae>\"\u001b[1;36m, line \u001b[1;32m2\u001b[0m\n\u001b[1;33m    \u001b[0m\n\u001b[1;37m    ^\u001b[0m\n\u001b[1;31mSyntaxError\u001b[0m\u001b[1;31m:\u001b[0m unexpected EOF while parsing\n"
     ]
    }
   ],
   "source": [
    "while(True):\n",
    "    "
   ]
  },
  {
   "cell_type": "code",
   "execution_count": 28,
   "metadata": {},
   "outputs": [
    {
     "name": "stdout",
     "output_type": "stream",
     "text": [
      "0\n",
      "1\n",
      "2\n",
      "3\n",
      "4\n"
     ]
    }
   ],
   "source": [
    "i=0\n",
    "while(i < 5):\n",
    "    print (i)\n",
    "    i=i+1;"
   ]
  },
  {
   "cell_type": "code",
   "execution_count": 29,
   "metadata": {},
   "outputs": [
    {
     "ename": "SyntaxError",
     "evalue": "invalid syntax (<ipython-input-29-00f7b087cb69>, line 1)",
     "output_type": "error",
     "traceback": [
      "\u001b[1;36m  File \u001b[1;32m\"<ipython-input-29-00f7b087cb69>\"\u001b[1;36m, line \u001b[1;32m1\u001b[0m\n\u001b[1;33m    for i in lista\u001b[0m\n\u001b[1;37m                  ^\u001b[0m\n\u001b[1;31mSyntaxError\u001b[0m\u001b[1;31m:\u001b[0m invalid syntax\n"
     ]
    }
   ],
   "source": [
    "for i in lista"
   ]
  },
  {
   "cell_type": "code",
   "execution_count": 31,
   "metadata": {},
   "outputs": [
    {
     "name": "stdout",
     "output_type": "stream",
     "text": [
      "netflix\n",
      "prime\n",
      "hotstar\n",
      "zee5\n",
      "['disney', 'hbo', 'tv+']\n",
      "Altbalaji\n"
     ]
    }
   ],
   "source": [
    "for i in lista:\n",
    "    print(i)"
   ]
  },
  {
   "cell_type": "code",
   "execution_count": 33,
   "metadata": {},
   "outputs": [
    {
     "name": "stdout",
     "output_type": "stream",
     "text": [
      "disney\n",
      "hbo\n",
      "tv+\n",
      "netflix\n",
      "disney\n",
      "hbo\n",
      "tv+\n",
      "prime\n",
      "disney\n",
      "hbo\n",
      "tv+\n",
      "hotstar\n",
      "disney\n",
      "hbo\n",
      "tv+\n",
      "zee5\n",
      "disney\n",
      "hbo\n",
      "tv+\n",
      "['disney', 'hbo', 'tv+']\n",
      "disney\n",
      "hbo\n",
      "tv+\n",
      "Altbalaji\n"
     ]
    }
   ],
   "source": [
    "for i in lista:\n",
    "    for j in lista[4]:\n",
    "        print(j)\n",
    "    print(i)"
   ]
  },
  {
   "cell_type": "code",
   "execution_count": 45,
   "metadata": {},
   "outputs": [
    {
     "name": "stdout",
     "output_type": "stream",
     "text": [
      "netflix\n",
      "prime\n",
      "hotstar\n",
      "zee5\n",
      "disney\n",
      "hbo\n",
      "tv+\n",
      "Altbalaji\n"
     ]
    }
   ],
   "source": [
    "for i in lista[0:4]:\n",
    "    print(i)\n",
    "for j in lista[4]:\n",
    "        print(j)\n",
    "print(lista[5])"
   ]
  },
  {
   "cell_type": "code",
   "execution_count": 52,
   "metadata": {},
   "outputs": [
    {
     "name": "stdout",
     "output_type": "stream",
     "text": [
      "netflix\n",
      "prime\n",
      "hotstar\n",
      "zee5\n",
      "['disney', 'hbo', 'tv+']\n",
      "Altbalaji\n"
     ]
    }
   ],
   "source": [
    "for i in range(6):\n",
    "    print(lista[i])"
   ]
  },
  {
   "cell_type": "code",
   "execution_count": 54,
   "metadata": {},
   "outputs": [
    {
     "name": "stdout",
     "output_type": "stream",
     "text": [
      "netflix\n",
      "prime\n",
      "hotstar\n",
      "zee5\n",
      "['disney', 'hbo', 'tv+']\n",
      "Altbalaji\n"
     ]
    }
   ],
   "source": [
    "for i in range(len(lista)):\n",
    "    print(lista[i])"
   ]
  },
  {
   "cell_type": "code",
   "execution_count": 55,
   "metadata": {},
   "outputs": [
    {
     "name": "stdout",
     "output_type": "stream",
     "text": [
      "lunch break at 2pm\n",
      "no tea break too\n",
      "no lunch break\n",
      "lunch break at 2pm\n",
      "no tea break too\n",
      "no lunch break\n",
      "no lunch break\n",
      "lunch break at 2pm\n",
      "no tea break too\n"
     ]
    }
   ],
   "source": [
    "for i in range(0,3):\n",
    "    for j in range(0, 3):\n",
    "        if(i==j):\n",
    "            print(\"lunch break at 2pm\")\n",
    "            break;\n",
    "        else:\n",
    "            print(\"no lunch break\")\n",
    "    print(\"no tea break too\")"
   ]
  },
  {
   "cell_type": "code",
   "execution_count": 56,
   "metadata": {},
   "outputs": [
    {
     "name": "stdout",
     "output_type": "stream",
     "text": [
      "lunch break at 2pm\n",
      "no lunch break\n",
      "no lunch break\n",
      "no tea break too\n",
      "no lunch break\n",
      "lunch break at 2pm\n",
      "no lunch break\n",
      "no tea break too\n",
      "no lunch break\n",
      "no lunch break\n",
      "lunch break at 2pm\n",
      "no tea break too\n"
     ]
    }
   ],
   "source": [
    "for i in range(0,3):\n",
    "    for j in range(0, 3):\n",
    "        if(i==j):\n",
    "            print(\"lunch break at 2pm\")\n",
    "            continue;\n",
    "        else:\n",
    "            print(\"no lunch break\")\n",
    "    print(\"no tea break too\")"
   ]
  },
  {
   "cell_type": "code",
   "execution_count": 1,
   "metadata": {},
   "outputs": [],
   "source": [
    "lista = ['netflix', 'prime', 'hotstar', 'zee5', 'disney', 'hbo', 'tv+']\n",
    "listb = ['zee5', 'sonyliv', 'voot', 'disney']\n",
    "listc = ['vodo', 'jodo', 'kudo', 'tv+', 'hbo']"
   ]
  },
  {
   "cell_type": "code",
   "execution_count": 2,
   "metadata": {},
   "outputs": [
    {
     "name": "stdout",
     "output_type": "stream",
     "text": [
      "tv+\n"
     ]
    }
   ],
   "source": [
    "for i in listc:\n",
    "    if (i in lista):\n",
    "        print(i)\n",
    "        break;\n",
    "else:\n",
    "    print(\"no\")"
   ]
  },
  {
   "cell_type": "code",
   "execution_count": 3,
   "metadata": {},
   "outputs": [
    {
     "name": "stdout",
     "output_type": "stream",
     "text": [
      "tv+\n",
      "hbo\n",
      "no\n"
     ]
    }
   ],
   "source": [
    "for i in listc:\n",
    "    if (i in lista):\n",
    "        print(i)\n",
    "else:\n",
    "    print(\"no\")"
   ]
  },
  {
   "cell_type": "code",
   "execution_count": null,
   "metadata": {},
   "outputs": [],
   "source": []
  }
 ],
 "metadata": {
  "kernelspec": {
   "display_name": "Python 3",
   "language": "python",
   "name": "python3"
  },
  "language_info": {
   "codemirror_mode": {
    "name": "ipython",
    "version": 3
   },
   "file_extension": ".py",
   "mimetype": "text/x-python",
   "name": "python",
   "nbconvert_exporter": "python",
   "pygments_lexer": "ipython3",
   "version": "3.7.4"
  }
 },
 "nbformat": 4,
 "nbformat_minor": 2
}
