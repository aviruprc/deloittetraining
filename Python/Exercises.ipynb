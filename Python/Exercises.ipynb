{
 "cells": [
  {
   "cell_type": "code",
   "execution_count": null,
   "metadata": {
    "scrolled": true
   },
   "outputs": [],
   "source": []
  },
  {
   "cell_type": "code",
   "execution_count": 1,
   "metadata": {},
   "outputs": [
    {
     "name": "stdout",
     "output_type": "stream",
     "text": [
      "15\n"
     ]
    }
   ],
   "source": [
    "\"\"\"1.\tWrite a code to display sum and average of two numbers. \n",
    "The average should be displayed as a  whole number (no decimal places) after calculation. \"\"\"\n",
    "a=10\n",
    "b=20\n",
    "avg = (a+b)//2\n",
    "print(avg)"
   ]
  },
  {
   "cell_type": "code",
   "execution_count": null,
   "metadata": {},
   "outputs": [],
   "source": []
  },
  {
   "cell_type": "code",
   "execution_count": 2,
   "metadata": {},
   "outputs": [
    {
     "name": "stdout",
     "output_type": "stream",
     "text": [
      "2\n",
      "3\n",
      "4\n",
      "0\n",
      "1\n"
     ]
    }
   ],
   "source": [
    "\"\"\"2.\tWrite a program that prints out all the elements of the list (list of numbers) that are less than 5\n",
    "\"\"\"\n",
    "lista= [1,2,3,4,5,6,7,8,9,0]\n",
    "for i in lista:\n",
    "    if lista[i]<5:\n",
    "        print (lista[i])"
   ]
  },
  {
   "cell_type": "code",
   "execution_count": 3,
   "metadata": {},
   "outputs": [
    {
     "name": "stdout",
     "output_type": "stream",
     "text": [
      "It is odd\n"
     ]
    }
   ],
   "source": [
    "#3\n",
    "n = '63'\n",
    "\n",
    "\n",
    "if n[-1]=='0':\n",
    "     print(\"It is divisible by 10\")\n",
    "elif int(n)%2!=0:\n",
    "    print(\"It is odd\")\n",
    "else:\n",
    "    print(\"It is even\")\n",
    "        \n",
    "        \n"
   ]
  },
  {
   "cell_type": "code",
   "execution_count": 4,
   "metadata": {},
   "outputs": [
    {
     "name": "stdout",
     "output_type": "stream",
     "text": [
      "210\n"
     ]
    }
   ],
   "source": [
    "#4\n",
    "\n",
    "a=70\n",
    "b=3\n",
    "\n",
    "prod = a*b\n",
    "sum = a+b\n",
    "\n",
    "if prod>500:\n",
    "    print(sum)\n",
    "else:\n",
    "    print(prod)"
   ]
  },
  {
   "cell_type": "code",
   "execution_count": 5,
   "metadata": {},
   "outputs": [
    {
     "name": "stdout",
     "output_type": "stream",
     "text": [
      "7\n",
      "9\n",
      "11\n",
      "13\n",
      "15\n",
      "17\n",
      "19\n",
      "21\n",
      "23\n",
      "25\n",
      "27\n",
      "29\n",
      "31\n",
      "33\n",
      "35\n",
      "37\n"
     ]
    }
   ],
   "source": [
    "#5\n",
    "for i in range(4,20,1):\n",
    "    sum = i +  (i-1)\n",
    "    print(sum)\n",
    "\n"
   ]
  },
  {
   "cell_type": "code",
   "execution_count": 6,
   "metadata": {},
   "outputs": [
    {
     "name": "stdout",
     "output_type": "stream",
     "text": [
      "It is a vowel\n"
     ]
    }
   ],
   "source": [
    "\n",
    "#6\n",
    "ch = 'e'\n",
    "if (ch=='a' or ch=='e' or ch=='i' or ch=='o' or ch=='u'):\n",
    "    print(\"It is a vowel\")\n",
    "else:\n",
    "    print(\"It's a consonant\")\n",
    "    "
   ]
  },
  {
   "cell_type": "code",
   "execution_count": 7,
   "metadata": {},
   "outputs": [
    {
     "name": "stdout",
     "output_type": "stream",
     "text": [
      "A\n",
      "i\n",
      "u\n"
     ]
    }
   ],
   "source": [
    "#7\n",
    "strb = 'Avirup'\n",
    "\n",
    "for i in range (0,len(strb),2):\n",
    "    print(strb[i])"
   ]
  },
  {
   "cell_type": "code",
   "execution_count": 8,
   "metadata": {},
   "outputs": [
    {
     "name": "stdout",
     "output_type": "stream",
     "text": [
      "It is divisible by 10\n"
     ]
    }
   ],
   "source": [
    "#8\n",
    "\n",
    "n = '60'\n",
    "\n",
    "\n",
    "if n[-1]=='0':\n",
    "     print(\"It is divisible by 10\")\n",
    "elif int(n)%2!=0:\n",
    "    print(\"It is odd\")\n",
    "else:\n",
    "    print(\"It is even\")"
   ]
  },
  {
   "cell_type": "code",
   "execution_count": 9,
   "metadata": {},
   "outputs": [
    {
     "name": "stdout",
     "output_type": "stream",
     "text": [
      "20\n",
      "80\n",
      "450\n",
      "350\n"
     ]
    }
   ],
   "source": [
    "#9\n",
    "listb=[12,20,31,43,65,80,454,450,350,12]\n",
    "\n",
    "for i in listb:\n",
    "    x = str(i)\n",
    "    if (x[-1]) == '0':\n",
    "        print(x)\n",
    "     \n",
    "     "
   ]
  },
  {
   "cell_type": "code",
   "execution_count": 10,
   "metadata": {},
   "outputs": [
    {
     "name": "stdout",
     "output_type": "stream",
     "text": [
      "They are same\n"
     ]
    }
   ],
   "source": [
    "#10\n",
    "\n",
    "if listb[0]==listb[-1]:\n",
    "    print(\"They are same\")\n",
    "else:\n",
    "    print(\"They are different\")"
   ]
  },
  {
   "cell_type": "code",
   "execution_count": 19,
   "metadata": {},
   "outputs": [],
   "source": [
    "#11\n",
    "\n",
    "strc = \"Hello World\"\n",
    "listc = list(strc)\n",
    "\n",
    "\n",
    "for i in range(0,len(listc)):\n",
    "    if listc[i] == ' ':\n",
    "        listc[i] = '_'\n",
    "    "
   ]
  },
  {
   "cell_type": "code",
   "execution_count": 53,
   "metadata": {},
   "outputs": [
    {
     "name": "stdout",
     "output_type": "stream",
     "text": [
      "321malayalam123\n",
      "Pallindrome\n"
     ]
    }
   ],
   "source": [
    "#12\n",
    "\n",
    "strd = \"321malayalam123\"\n",
    "stre = strd[::-1]\n",
    "print(stre)\n",
    "\n",
    "if strd == stre : \n",
    "    print(\"Pallindrome\")\n",
    "else:\n",
    "    print(\"Not Pallindrome\")"
   ]
  },
  {
   "cell_type": "code",
   "execution_count": 70,
   "metadata": {},
   "outputs": [
    {
     "name": "stdout",
     "output_type": "stream",
     "text": [
      "1\n",
      "2\n",
      "3\n",
      "5\n",
      "8\n",
      "13\n",
      "21\n",
      "34\n",
      "55\n",
      "89\n"
     ]
    }
   ],
   "source": [
    "#13\n",
    "n = 10\n",
    "first=0\n",
    "second=1\n",
    "for i in range (1,n+1):\n",
    "    \n",
    "    fib = first+second\n",
    "    print(fib)\n",
    "    first= second\n",
    "    second = fib"
   ]
  },
  {
   "cell_type": "code",
   "execution_count": 73,
   "metadata": {},
   "outputs": [
    {
     "name": "stdout",
     "output_type": "stream",
     "text": [
      "HelWorldlo\n"
     ]
    }
   ],
   "source": [
    "#14\n",
    "\n",
    "stra = \"Hello\"\n",
    "strb = \"World\"\n",
    "strc = stra[0:3] + strb + stra[3:]\n",
    "print(strc)"
   ]
  },
  {
   "cell_type": "code",
   "execution_count": 96,
   "metadata": {},
   "outputs": [
    {
     "name": "stdout",
     "output_type": "stream",
     "text": [
      "\n",
      "\n",
      "1\n",
      "\n",
      "\n",
      "1\n",
      "2\n",
      "\n",
      "\n",
      "1\n",
      "2\n",
      "3\n",
      "\n",
      "\n",
      "1\n",
      "2\n",
      "3\n",
      "4\n",
      "\n",
      "\n",
      "1\n",
      "2\n",
      "3\n",
      "4\n",
      "5\n"
     ]
    }
   ],
   "source": [
    "#15\n",
    "n = 5\n",
    "num = 1\n",
    "  \n",
    "for i in range(0, n): \n",
    "    num = 1\n",
    "    print(\"\\n\")\n",
    "    for j in range(0, i+1): \n",
    "        print(num)             \n",
    "        num = num + 1\n",
    "       \n",
    "         \n",
    "  \n",
    "\n",
    "\n",
    "\n",
    "    \n",
    "        "
   ]
  },
  {
   "cell_type": "code",
   "execution_count": 101,
   "metadata": {},
   "outputs": [
    {
     "data": {
      "text/plain": [
       "'the quick br'"
      ]
     },
     "execution_count": 101,
     "metadata": {},
     "output_type": "execute_result"
    }
   ],
   "source": [
    "#16\n",
    "\n",
    "stre= \"the quick brown fox jumps right over the lazy dog\"\n",
    "tfive = int(0.25*len(stre))\n",
    "stre[:tfive]"
   ]
  },
  {
   "cell_type": "code",
   "execution_count": 131,
   "metadata": {},
   "outputs": [
    {
     "name": "stdout",
     "output_type": "stream",
     "text": [
      "[1, 2, 3, 4, 5, 6, 7, 8, 9, 0, 11]\n",
      "6\n"
     ]
    }
   ],
   "source": [
    "#17\n",
    "\n",
    "print(lista)\n",
    "mido = int(len(lista)/2) # middle element if list is odd\n",
    "mide = len(lista)//2 #one element if list is even\n",
    "ife = (lista[mide]+lista[mide-1])/2 #average of median values\n",
    "\n",
    "if (len(lista)%2 == 0):\n",
    "    print(ife)\n",
    "else:\n",
    "    print(lista[mido])\n",
    "    "
   ]
  },
  {
   "cell_type": "code",
   "execution_count": 137,
   "metadata": {},
   "outputs": [
    {
     "data": {
      "text/plain": [
       "['a', 'i', 'u']"
      ]
     },
     "execution_count": 137,
     "metadata": {},
     "output_type": "execute_result"
    }
   ],
   "source": [
    "#18\n",
    "\n",
    "list1 = ['a','e','i','o','u']\n",
    "list2 = ['a','v','i','r','u','p']\n",
    "list3 = []\n",
    "\n",
    "for i in list1:\n",
    "    if (i in list2):\n",
    "        list3.append(i)\n",
    "        \n",
    "list3"
   ]
  },
  {
   "cell_type": "code",
   "execution_count": 142,
   "metadata": {},
   "outputs": [
    {
     "name": "stdout",
     "output_type": "stream",
     "text": [
      "Leap Year\n"
     ]
    }
   ],
   "source": [
    "#19\n",
    "\n",
    "year = 1996\n",
    "\n",
    "if year%4 == 0:\n",
    "    print(\"Leap Year\")\n",
    "else:\n",
    "    print(\"Not a Leap Year\")"
   ]
  },
  {
   "cell_type": "code",
   "execution_count": 143,
   "metadata": {},
   "outputs": [],
   "source": [
    "#20"
   ]
  },
  {
   "cell_type": "code",
   "execution_count": 245,
   "metadata": {},
   "outputs": [
    {
     "ename": "AttributeError",
     "evalue": "'dict' object has no attribute 'boy'",
     "output_type": "error",
     "traceback": [
      "\u001b[1;31m---------------------------------------------------------------------------\u001b[0m",
      "\u001b[1;31mAttributeError\u001b[0m                            Traceback (most recent call last)",
      "\u001b[1;32m<ipython-input-245-27069970d9c4>\u001b[0m in \u001b[0;36m<module>\u001b[1;34m\u001b[0m\n\u001b[0;32m      8\u001b[0m \u001b[1;33m\u001b[0m\u001b[0m\n\u001b[0;32m      9\u001b[0m \u001b[1;33m\u001b[0m\u001b[0m\n\u001b[1;32m---> 10\u001b[1;33m \u001b[0mx\u001b[0m\u001b[1;33m=\u001b[0m \u001b[0mpeople\u001b[0m\u001b[1;33m.\u001b[0m\u001b[0mboy\u001b[0m\u001b[1;33m.\u001b[0m\u001b[0mvalues\u001b[0m\u001b[1;33m(\u001b[0m\u001b[1;33m)\u001b[0m\u001b[1;33m\u001b[0m\u001b[1;33m\u001b[0m\u001b[0m\n\u001b[0m\u001b[0;32m     11\u001b[0m \u001b[0mprint\u001b[0m\u001b[1;33m(\u001b[0m\u001b[0mx\u001b[0m\u001b[1;33m)\u001b[0m\u001b[1;33m\u001b[0m\u001b[1;33m\u001b[0m\u001b[0m\n",
      "\u001b[1;31mAttributeError\u001b[0m: 'dict' object has no attribute 'boy'"
     ]
    }
   ],
   "source": [
    "people = {'boy': {'name': 'John', 'age': '27', 'sex': 'Male'},\n",
    "          'girl': {'name': 'Marie', 'age': '22', 'sex': 'Female'}}\n",
    "\n",
    "newlist = []\n",
    "\n",
    "#for i in range (1,3):\n",
    " #   newlist.append(people[i])\n",
    "\n",
    "\n",
    "x= people.values()\n",
    "print(x)\n"
   ]
  },
  {
   "cell_type": "code",
   "execution_count": 190,
   "metadata": {},
   "outputs": [
    {
     "name": "stdout",
     "output_type": "stream",
     "text": [
      "Enter the amount 101\n",
      "Enter the years 1\n",
      "109.08000000000001\n"
     ]
    }
   ],
   "source": [
    "#24\n",
    "\n",
    "amt = eval(input(\"Enter the amount \"))\n",
    "year = eval(input(\"Enter the years \"))\n",
    "\n",
    "for i in range (0,year):\n",
    "    amt=amt*1.08\n",
    "    \n",
    "    \n",
    "print(amt)\n",
    "    "
   ]
  },
  {
   "cell_type": "code",
   "execution_count": 236,
   "metadata": {},
   "outputs": [
    {
     "ename": "TypeError",
     "evalue": "'str' object cannot be interpreted as an integer",
     "output_type": "error",
     "traceback": [
      "\u001b[1;31m---------------------------------------------------------------------------\u001b[0m",
      "\u001b[1;31mTypeError\u001b[0m                                 Traceback (most recent call last)",
      "\u001b[1;32m<ipython-input-236-d1a25224ae6c>\u001b[0m in \u001b[0;36m<module>\u001b[1;34m\u001b[0m\n\u001b[0;32m      5\u001b[0m     \u001b[1;32mfor\u001b[0m \u001b[0mj\u001b[0m \u001b[1;32min\u001b[0m \u001b[0mrange\u001b[0m\u001b[1;33m(\u001b[0m\u001b[0mi\u001b[0m\u001b[1;33m+\u001b[0m\u001b[1;36m1\u001b[0m\u001b[1;33m,\u001b[0m\u001b[0mlen\u001b[0m\u001b[1;33m(\u001b[0m\u001b[0mlistdup\u001b[0m\u001b[1;33m)\u001b[0m\u001b[1;33m)\u001b[0m\u001b[1;33m:\u001b[0m\u001b[1;33m\u001b[0m\u001b[1;33m\u001b[0m\u001b[0m\n\u001b[0;32m      6\u001b[0m         \u001b[1;32mif\u001b[0m \u001b[0mstr\u001b[0m \u001b[1;33m==\u001b[0m \u001b[0mlistdup\u001b[0m\u001b[1;33m[\u001b[0m\u001b[0mj\u001b[0m\u001b[1;33m]\u001b[0m\u001b[1;33m:\u001b[0m\u001b[1;33m\u001b[0m\u001b[1;33m\u001b[0m\u001b[0m\n\u001b[1;32m----> 7\u001b[1;33m             \u001b[0mlistdup\u001b[0m\u001b[1;33m.\u001b[0m\u001b[0mpop\u001b[0m\u001b[1;33m(\u001b[0m\u001b[1;34m'j'\u001b[0m\u001b[1;33m)\u001b[0m\u001b[1;33m\u001b[0m\u001b[1;33m\u001b[0m\u001b[0m\n\u001b[0m\u001b[0;32m      8\u001b[0m \u001b[1;33m\u001b[0m\u001b[0m\n\u001b[0;32m      9\u001b[0m \u001b[1;33m\u001b[0m\u001b[0m\n",
      "\u001b[1;31mTypeError\u001b[0m: 'str' object cannot be interpreted as an integer"
     ]
    }
   ],
   "source": [
    "#23\n",
    "\n",
    "listdup = [10,20,30,40,10,50,60,20,40]\n",
    "\n",
    "for i in range(0,len(listdup)):\n",
    "    str = listdup[i]\n",
    "    for j in range(i+1,len(listdup)):\n",
    "        if str == listdup[j]:\n",
    "            listdup.pop(j)\n",
    "            \n",
    "            \n"
   ]
  },
  {
   "cell_type": "code",
   "execution_count": 225,
   "metadata": {},
   "outputs": [
    {
     "data": {
      "text/plain": [
       "['10', '20', '30', '40', None, '50', '60', None, None]"
      ]
     },
     "execution_count": 225,
     "metadata": {},
     "output_type": "execute_result"
    }
   ],
   "source": [
    "listdup"
   ]
  },
  {
   "cell_type": "code",
   "execution_count": 246,
   "metadata": {},
   "outputs": [],
   "source": [
    "#22\n",
    "listn = [10,30,20,40,50,60,10,20,40,30]\n",
    "dicta={}\n",
    "for val in listn:\n",
    "    x=listn.count(val)"
   ]
  },
  {
   "cell_type": "code",
   "execution_count": null,
   "metadata": {},
   "outputs": [],
   "source": []
  }
 ],
 "metadata": {
  "kernelspec": {
   "display_name": "Python 3",
   "language": "python",
   "name": "python3"
  },
  "language_info": {
   "codemirror_mode": {
    "name": "ipython",
    "version": 3
   },
   "file_extension": ".py",
   "mimetype": "text/x-python",
   "name": "python",
   "nbconvert_exporter": "python",
   "pygments_lexer": "ipython3",
   "version": "3.7.4"
  }
 },
 "nbformat": 4,
 "nbformat_minor": 2
}
