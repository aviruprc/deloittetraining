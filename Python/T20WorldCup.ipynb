{
 "cells": [
  {
   "cell_type": "code",
   "execution_count": null,
   "metadata": {},
   "outputs": [],
   "source": [
    "#data initialisation\n",
    "India = []\n",
    "Pakistan = []\n",
    "SriLanka = []\n",
    "NewZealand = []\n",
    "Zimbawe = []\n",
    "Canada = []\n",
    "Kenya = []\n",
    "SouthAfrica = []\n",
    "WestIndies = []\n",
    "England = []\n",
    "Bangladesh = []\n",
    "Irelands = []\n",
    "Netherlands = []\n",
    "Bermuda = []\n",
    "Australia = []\n",
    "USA = []\n",
    "\n",
    "\n",
    "lista = [India, Pakistan , SriLanka, NewZealand]\n",
    "listb= [ Zimbawe, Canada, Kenya, SouthAfrica]\n",
    "listc = [WestIndies, England, Bangladesh, Irelands]\n",
    "listd = [Netherlands, Bermuda, Australia, USA]\n",
    "listp = []\n",
    "liste=[]\n",
    "listf=[]\n",
    "listg=[]"
   ]
  },
  {
   "cell_type": "code",
   "execution_count": null,
   "metadata": {},
   "outputs": [],
   "source": [
    "#grading system\n",
    "w =2 \n",
    "t = 1\n",
    "l = 0"
   ]
  },
  {
   "cell_type": "code",
   "execution_count": null,
   "metadata": {},
   "outputs": [],
   "source": [
    "#function to generate fixtures and enter scores\n",
    "def fixtures (matches):\n",
    "   \n",
    "    try:\n",
    "        for i in range(0,len(matches),1):\n",
    "            print(matches[i])\n",
    "            for j in range(i+1,len(matches),1):\n",
    "                print(\"vs\",matches[j])\n",
    "                res =  eval(input(\"Press w for win, t for tie and l for lost **Only for HOME TEAM**\"))\n",
    "                if res == w:\n",
    "                    matches[i].append(w)\n",
    "                    matches[j].append(l)\n",
    "                elif res == l:\n",
    "                    matches[i].append(l)\n",
    "                    matches[j].append(w)\n",
    "                else:\n",
    "                    matches[i].append(t)\n",
    "                    matches[j].append(t)\n",
    "        print(\"The points are\", matches)\n",
    "        print(\"\\n\")\n",
    "    \n",
    "    except NameError:\n",
    "        print(\"Type 'w' 'l' 't' ONLY\")"
   ]
  },
  {
   "cell_type": "code",
   "execution_count": null,
   "metadata": {},
   "outputs": [],
   "source": [
    "#top two teams qualify from each group where matches = initial group and group = qualifying group\n",
    "def qualify (matches,group):\n",
    "    #points = 0 # DO NOT TOUCH ! JUST AN ASSIGNMENT\n",
    "    listp.clear()\n",
    "    for i in range(0,len(matches),1):\n",
    "        listp.append(sum(matches[i]))\n",
    "        \n",
    "        \n",
    "\n",
    "    maxpos1 = listp.index(max(listp))  #winning team\n",
    "    if(maxpos1==0):\n",
    "        group.append(matches[0])\n",
    "    elif (maxpos1==1):\n",
    "        group.append(matches[1])\n",
    "    elif (maxpos1==2):\n",
    "        group.append(matches[2])\n",
    "    elif (maxpos1==3):\n",
    "        group.append(matches[3])\n",
    "        \n",
    "        \n",
    "    listp[maxpos1] = 0\n",
    "       \n",
    "    maxpos2 = listp.index(max(listp))  #2nd position\n",
    "    \n",
    "    if(maxpos2==0):\n",
    "        group.append(matches[0])\n",
    "    elif (maxpos2==1):\n",
    "        group.append(matches[1])\n",
    "    elif (maxpos2==2):\n",
    "        group.append(matches[2])\n",
    "    elif (maxpos2==3):\n",
    "        group.append(matches[3])\n",
    "  \n",
    "               \n",
    "        \n",
    " "
   ]
  },
  {
   "cell_type": "code",
   "execution_count": null,
   "metadata": {},
   "outputs": [],
   "source": [
    "#finding the final winner\n",
    "def winner (matches):\n",
    "    #points = 0 # DO NOT TOUCH ! JUST AN ASSIGNMENT\n",
    "    listp.clear()\n",
    "    for i in range(0,len(matches),1):\n",
    "        listp.append(sum(matches[i]))\n",
    "        \n",
    "        \n",
    "\n",
    "    maxpos1 = listp.index(max(listp))  #winning team\n",
    "    if(maxpos1==0):\n",
    "        print(\"Winner is\",matches[0])\n",
    "    elif (maxpos1==1):\n",
    "        print(\"Winner is\",matches[1])\n",
    "    elif (maxpos1==2):\n",
    "        print(\"Winner is\",matches[2])\n",
    "    elif (maxpos1==3):\n",
    "        print(\"Winner is\",matches[3])\n",
    "        \n",
    "        \n",
    "    "
   ]
  },
  {
   "cell_type": "code",
   "execution_count": null,
   "metadata": {},
   "outputs": [],
   "source": [
    "#function calls\n",
    "fixtures(lista)\n",
    "fixtures(listb)\n",
    "fixtures(listc)\n",
    "fixtures(listd)\n",
    "qualify(lista,liste)\n",
    "qualify(listb,liste)\n",
    "qualify(listc,listf)\n",
    "qualify(listd,listf)\n",
    "fixtures(liste)\n",
    "fixtures(listf)\n",
    "qualify(liste,listg)\n",
    "qualify(listf,listg)\n",
    "winner(listg)\n"
   ]
  },
  {
   "cell_type": "code",
   "execution_count": null,
   "metadata": {},
   "outputs": [],
   "source": []
  },
  {
   "cell_type": "code",
   "execution_count": null,
   "metadata": {},
   "outputs": [],
   "source": []
  },
  {
   "cell_type": "code",
   "execution_count": null,
   "metadata": {},
   "outputs": [],
   "source": []
  },
  {
   "cell_type": "code",
   "execution_count": null,
   "metadata": {},
   "outputs": [],
   "source": []
  },
  {
   "cell_type": "code",
   "execution_count": null,
   "metadata": {},
   "outputs": [],
   "source": [
    "\n"
   ]
  }
 ],
 "metadata": {
  "kernelspec": {
   "display_name": "Python 3",
   "language": "python",
   "name": "python3"
  },
  "language_info": {
   "codemirror_mode": {
    "name": "ipython",
    "version": 3
   },
   "file_extension": ".py",
   "mimetype": "text/x-python",
   "name": "python",
   "nbconvert_exporter": "python",
   "pygments_lexer": "ipython3",
   "version": "3.7.4"
  }
 },
 "nbformat": 4,
 "nbformat_minor": 2
}
